{
  "nbformat": 4,
  "nbformat_minor": 0,
  "metadata": {
    "colab": {
      "provenance": []
    },
    "kernelspec": {
      "name": "python3",
      "display_name": "Python 3"
    },
    "language_info": {
      "name": "python"
    }
  },
  "cells": [
    {
      "cell_type": "markdown",
      "source": [
        "# Neural Networks"
      ],
      "metadata": {
        "id": "b9oFE05WQl_K"
      }
    },
    {
      "cell_type": "markdown",
      "source": [
        "*Adapted from `pytorch.org/tutorials/beginner/basics/quickstart_tutorial.html`.*"
      ],
      "metadata": {
        "id": "6Z62lEnyREle"
      }
    },
    {
      "cell_type": "code",
      "execution_count": null,
      "metadata": {
        "id": "tr7BLvnZHUIT"
      },
      "outputs": [],
      "source": [
        "import torch\n",
        "from torch import nn\n",
        "from torch.utils.data import DataLoader\n",
        "from torchvision import datasets\n",
        "from torchvision.transforms import ToTensor"
      ]
    },
    {
      "cell_type": "markdown",
      "source": [
        "PyTorch has two [primitives to work with data](https://pytorch.org/docs/stable/data.html):\n",
        "``torch.utils.data.DataLoader`` and ``torch.utils.data.Dataset``.\n",
        "``Dataset`` stores the samples and their corresponding labels, and ``DataLoader`` wraps an iterable around\n",
        "the ``Dataset``.\n",
        "\n",
        "PyTorch offers domain-specific libraries such as [TorchText](https://pytorch.org/text/stable/index.html),\n",
        "[TorchVision](https://pytorch.org/vision/stable/index.html), and [TorchAudio](https://pytorch.org/audio/stable/index.html),\n",
        "all of which include datasets. For this tutorial, we  will be using a TorchVision dataset.\n",
        "\n",
        "The ``torchvision.datasets`` module contains ``Dataset`` objects for many real-world vision data like\n",
        "MNIST, CIFAR. In this tutorial, we\n",
        "use the FashionMNIST dataset. Every TorchVision ``Dataset`` includes two arguments: ``transform`` and\n",
        "``target_transform`` to modify the samples and labels respectively.\n"
      ],
      "metadata": {
        "id": "Kp8QAX5eRWiF"
      }
    },
    {
      "cell_type": "code",
      "source": [
        "# Download training data from open datasets.\n",
        "training_data = datasets.FashionMNIST(\n",
        "    root=\"data\", # Path where data is stored\n",
        "    train=True, # Training or test dataset\n",
        "    download=True, # Download the data if not available locally\n",
        "    transform=ToTensor(), # Feature transformations (convert images to tensors)\n",
        ")\n",
        "\n",
        "# Download test data from open datasets.\n",
        "test_data = datasets.FashionMNIST(\n",
        "    root=\"data\",\n",
        "    train=False,\n",
        "    download=True,\n",
        "    transform=ToTensor(),\n",
        ")"
      ],
      "metadata": {
        "id": "uwuwA0voRVsX"
      },
      "execution_count": null,
      "outputs": []
    },
    {
      "cell_type": "markdown",
      "source": [
        "We pass the ``Dataset`` as an argument to ``DataLoader``. This wraps an iterable over our dataset, and supports\n",
        "automatic batching, sampling, shuffling and multiprocess data loading. Here we define a batch size of 64, i.e., each element\n",
        "in the dataloader iterable will return a batch of 64 features and labels.\n",
        "\n"
      ],
      "metadata": {
        "id": "XfdqC0EvRmfv"
      }
    },
    {
      "cell_type": "code",
      "source": [
        "batch_size = 64\n",
        "\n",
        "# Create data loaders.\n",
        "train_dataloader = DataLoader(training_data, batch_size=batch_size, shuffle=True)\n",
        "test_dataloader = DataLoader(test_data, batch_size=batch_size)\n"
      ],
      "metadata": {
        "id": "ipB0RdWbRl_t"
      },
      "execution_count": null,
      "outputs": []
    },
    {
      "cell_type": "code",
      "source": [
        "for X, y in test_dataloader:\n",
        "    print(f\"Shape of X [N, C, H, W]: {X.shape}\")\n",
        "    print(f\"Shape of y: {y.shape} {y.dtype}\")\n",
        "    break"
      ],
      "metadata": {
        "colab": {
          "base_uri": "https://localhost:8080/"
        },
        "id": "WTYZwMATRvxE",
        "outputId": "58cce230-b105-477a-ac74-a51e893787f1"
      },
      "execution_count": null,
      "outputs": [
        {
          "output_type": "stream",
          "name": "stdout",
          "text": [
            "Shape of X [N, C, H, W]: torch.Size([64, 1, 28, 28])\n",
            "Shape of y: torch.Size([64]) torch.int64\n"
          ]
        }
      ]
    },
    {
      "cell_type": "code",
      "source": [
        "import matplotlib.pyplot as plt\n",
        "print(X[0])\n",
        "plt.imshow(X[0,0], cmap=\"gray\")"
      ],
      "metadata": {
        "colab": {
          "base_uri": "https://localhost:8080/",
          "height": 1000
        },
        "id": "JGS8SW6JY0aH",
        "outputId": "c0154c98-9a8e-49c4-f156-0a6704925e6b"
      },
      "execution_count": null,
      "outputs": [
        {
          "output_type": "stream",
          "name": "stdout",
          "text": [
            "tensor([[[0.0000, 0.0000, 0.0000, 0.0000, 0.0000, 0.0000, 0.0000, 0.0000,\n",
            "          0.0000, 0.0000, 0.0000, 0.0000, 0.0000, 0.0000, 0.0000, 0.0000,\n",
            "          0.0000, 0.0000, 0.0000, 0.0000, 0.0000, 0.0000, 0.0000, 0.0000,\n",
            "          0.0000, 0.0000, 0.0000, 0.0000],\n",
            "         [0.0000, 0.0000, 0.0000, 0.0000, 0.0000, 0.0000, 0.0000, 0.0000,\n",
            "          0.0000, 0.0000, 0.0000, 0.0000, 0.0000, 0.0000, 0.0000, 0.0000,\n",
            "          0.0000, 0.0000, 0.0000, 0.0000, 0.0000, 0.0000, 0.0000, 0.0000,\n",
            "          0.0000, 0.0000, 0.0000, 0.0000],\n",
            "         [0.0000, 0.0000, 0.0000, 0.0000, 0.0000, 0.0000, 0.0000, 0.0000,\n",
            "          0.0000, 0.0000, 0.0000, 0.0000, 0.0000, 0.0000, 0.0000, 0.0000,\n",
            "          0.0000, 0.0000, 0.0000, 0.0000, 0.0000, 0.0000, 0.0000, 0.0000,\n",
            "          0.0000, 0.0000, 0.0000, 0.0000],\n",
            "         [0.0000, 0.0000, 0.0000, 0.0000, 0.0000, 0.0000, 0.0000, 0.0000,\n",
            "          0.0000, 0.0000, 0.0000, 0.0000, 0.0000, 0.0000, 0.0000, 0.0000,\n",
            "          0.0000, 0.0000, 0.0000, 0.0000, 0.0000, 0.0000, 0.0000, 0.0000,\n",
            "          0.0000, 0.0000, 0.0000, 0.0000],\n",
            "         [0.0000, 0.0000, 0.0000, 0.0000, 0.0000, 0.0000, 0.0000, 0.0000,\n",
            "          0.0000, 0.0000, 0.0000, 0.0000, 0.0000, 0.0000, 0.0000, 0.0000,\n",
            "          0.0000, 0.0000, 0.0000, 0.0000, 0.0000, 0.0000, 0.0000, 0.0000,\n",
            "          0.0000, 0.0000, 0.0000, 0.0000],\n",
            "         [0.0000, 0.0000, 0.0000, 0.0000, 0.0000, 0.0000, 0.0000, 0.0000,\n",
            "          0.0000, 0.0000, 0.0000, 0.0000, 0.0000, 0.0000, 0.0000, 0.0000,\n",
            "          0.0000, 0.0000, 0.0000, 0.0000, 0.0000, 0.0000, 0.0000, 0.0000,\n",
            "          0.0000, 0.0000, 0.0000, 0.0000],\n",
            "         [0.0000, 0.0000, 0.0000, 0.0000, 0.0000, 0.0000, 0.0000, 0.0000,\n",
            "          0.0000, 0.0000, 0.0000, 0.0000, 0.0000, 0.0000, 0.0000, 0.0000,\n",
            "          0.0000, 0.0000, 0.0000, 0.0000, 0.0000, 0.0000, 0.0000, 0.0000,\n",
            "          0.0000, 0.0000, 0.0000, 0.0000],\n",
            "         [0.0000, 0.0000, 0.0000, 0.0000, 0.0000, 0.0000, 0.0000, 0.0000,\n",
            "          0.0000, 0.0000, 0.0000, 0.0000, 0.0000, 0.0000, 0.0000, 0.0000,\n",
            "          0.0000, 0.0000, 0.0000, 0.0118, 0.0039, 0.0000, 0.0000, 0.0275,\n",
            "          0.0000, 0.1451, 0.0000, 0.0000],\n",
            "         [0.0000, 0.0000, 0.0000, 0.0000, 0.0000, 0.0000, 0.0000, 0.0000,\n",
            "          0.0000, 0.0000, 0.0000, 0.0000, 0.0000, 0.0039, 0.0078, 0.0000,\n",
            "          0.1059, 0.3294, 0.0431, 0.0000, 0.0000, 0.0000, 0.0000, 0.0000,\n",
            "          0.0000, 0.4667, 0.0000, 0.0000],\n",
            "         [0.0000, 0.0000, 0.0000, 0.0000, 0.0000, 0.0000, 0.0000, 0.0000,\n",
            "          0.0000, 0.0000, 0.0000, 0.0000, 0.0000, 0.0039, 0.0000, 0.0000,\n",
            "          0.3451, 0.5608, 0.4314, 0.0000, 0.0000, 0.0000, 0.0000, 0.0863,\n",
            "          0.3647, 0.4157, 0.0000, 0.0000],\n",
            "         [0.0000, 0.0000, 0.0000, 0.0000, 0.0000, 0.0000, 0.0000, 0.0000,\n",
            "          0.0000, 0.0000, 0.0000, 0.0000, 0.0000, 0.0157, 0.0000, 0.2078,\n",
            "          0.5059, 0.4706, 0.5765, 0.6863, 0.6157, 0.6510, 0.5294, 0.6039,\n",
            "          0.6588, 0.5490, 0.0000, 0.0000],\n",
            "         [0.0000, 0.0000, 0.0000, 0.0000, 0.0000, 0.0000, 0.0000, 0.0000,\n",
            "          0.0000, 0.0000, 0.0000, 0.0000, 0.0078, 0.0000, 0.0431, 0.5373,\n",
            "          0.5098, 0.5020, 0.6275, 0.6902, 0.6235, 0.6549, 0.6980, 0.5843,\n",
            "          0.5922, 0.5647, 0.0000, 0.0000],\n",
            "         [0.0000, 0.0000, 0.0000, 0.0000, 0.0000, 0.0000, 0.0039, 0.0000,\n",
            "          0.0078, 0.0039, 0.0000, 0.0118, 0.0000, 0.0000, 0.4510, 0.4471,\n",
            "          0.4157, 0.5373, 0.6588, 0.6000, 0.6118, 0.6471, 0.6549, 0.5608,\n",
            "          0.6157, 0.6196, 0.0431, 0.0000],\n",
            "         [0.0000, 0.0000, 0.0000, 0.0000, 0.0039, 0.0000, 0.0000, 0.0000,\n",
            "          0.0000, 0.0000, 0.0118, 0.0000, 0.0000, 0.3490, 0.5451, 0.3529,\n",
            "          0.3686, 0.6000, 0.5843, 0.5137, 0.5922, 0.6627, 0.6745, 0.5608,\n",
            "          0.6235, 0.6627, 0.1882, 0.0000],\n",
            "         [0.0000, 0.0000, 0.0000, 0.0000, 0.0000, 0.0000, 0.0078, 0.0157,\n",
            "          0.0039, 0.0000, 0.0000, 0.0000, 0.3843, 0.5333, 0.4314, 0.4275,\n",
            "          0.4314, 0.6353, 0.5294, 0.5647, 0.5843, 0.6235, 0.6549, 0.5647,\n",
            "          0.6196, 0.6627, 0.4667, 0.0000],\n",
            "         [0.0000, 0.0000, 0.0078, 0.0078, 0.0039, 0.0078, 0.0000, 0.0000,\n",
            "          0.0000, 0.0000, 0.1020, 0.4235, 0.4588, 0.3882, 0.4353, 0.4588,\n",
            "          0.5333, 0.6118, 0.5255, 0.6039, 0.6039, 0.6118, 0.6275, 0.5529,\n",
            "          0.5765, 0.6118, 0.6980, 0.0000],\n",
            "         [0.0118, 0.0000, 0.0000, 0.0000, 0.0000, 0.0000, 0.0000, 0.0824,\n",
            "          0.2078, 0.3608, 0.4588, 0.4353, 0.4039, 0.4510, 0.5059, 0.5255,\n",
            "          0.5608, 0.6039, 0.6471, 0.6667, 0.6039, 0.5922, 0.6039, 0.5608,\n",
            "          0.5412, 0.5882, 0.6471, 0.1686],\n",
            "         [0.0000, 0.0000, 0.0902, 0.2118, 0.2549, 0.2980, 0.3333, 0.4627,\n",
            "          0.5020, 0.4824, 0.4353, 0.4431, 0.4627, 0.4980, 0.4902, 0.5451,\n",
            "          0.5216, 0.5333, 0.6275, 0.5490, 0.6078, 0.6314, 0.5647, 0.6078,\n",
            "          0.6745, 0.6314, 0.7412, 0.2431],\n",
            "         [0.0000, 0.2667, 0.3686, 0.3529, 0.4353, 0.4471, 0.4353, 0.4471,\n",
            "          0.4510, 0.4980, 0.5294, 0.5333, 0.5608, 0.4941, 0.4980, 0.5922,\n",
            "          0.6039, 0.5608, 0.5804, 0.4902, 0.6353, 0.6353, 0.5647, 0.5412,\n",
            "          0.6000, 0.6353, 0.7686, 0.2275],\n",
            "         [0.2745, 0.6627, 0.5059, 0.4078, 0.3843, 0.3922, 0.3686, 0.3804,\n",
            "          0.3843, 0.4000, 0.4235, 0.4157, 0.4667, 0.4706, 0.5059, 0.5843,\n",
            "          0.6118, 0.6549, 0.7451, 0.7451, 0.7686, 0.7765, 0.7765, 0.7333,\n",
            "          0.7725, 0.7412, 0.7216, 0.1412],\n",
            "         [0.0627, 0.4941, 0.6706, 0.7373, 0.7373, 0.7216, 0.6706, 0.6000,\n",
            "          0.5294, 0.4706, 0.4941, 0.4980, 0.5725, 0.7255, 0.7647, 0.8196,\n",
            "          0.8157, 1.0000, 0.8196, 0.6941, 0.9608, 0.9882, 0.9843, 0.9843,\n",
            "          0.9686, 0.8627, 0.8078, 0.1922],\n",
            "         [0.0000, 0.0000, 0.0000, 0.0471, 0.2627, 0.4157, 0.6431, 0.7255,\n",
            "          0.7804, 0.8235, 0.8275, 0.8235, 0.8157, 0.7451, 0.5882, 0.3216,\n",
            "          0.0314, 0.0000, 0.0000, 0.0000, 0.6980, 0.8157, 0.7373, 0.6863,\n",
            "          0.6353, 0.6196, 0.5922, 0.0431],\n",
            "         [0.0000, 0.0000, 0.0000, 0.0000, 0.0000, 0.0000, 0.0000, 0.0000,\n",
            "          0.0000, 0.0000, 0.0000, 0.0000, 0.0000, 0.0000, 0.0000, 0.0000,\n",
            "          0.0000, 0.0000, 0.0000, 0.0000, 0.0000, 0.0000, 0.0000, 0.0000,\n",
            "          0.0000, 0.0000, 0.0000, 0.0000],\n",
            "         [0.0000, 0.0000, 0.0000, 0.0000, 0.0000, 0.0000, 0.0000, 0.0000,\n",
            "          0.0000, 0.0000, 0.0000, 0.0000, 0.0000, 0.0000, 0.0000, 0.0000,\n",
            "          0.0000, 0.0000, 0.0000, 0.0000, 0.0000, 0.0000, 0.0000, 0.0000,\n",
            "          0.0000, 0.0000, 0.0000, 0.0000],\n",
            "         [0.0000, 0.0000, 0.0000, 0.0000, 0.0000, 0.0000, 0.0000, 0.0000,\n",
            "          0.0000, 0.0000, 0.0000, 0.0000, 0.0000, 0.0000, 0.0000, 0.0000,\n",
            "          0.0000, 0.0000, 0.0000, 0.0000, 0.0000, 0.0000, 0.0000, 0.0000,\n",
            "          0.0000, 0.0000, 0.0000, 0.0000],\n",
            "         [0.0000, 0.0000, 0.0000, 0.0000, 0.0000, 0.0000, 0.0000, 0.0000,\n",
            "          0.0000, 0.0000, 0.0000, 0.0000, 0.0000, 0.0000, 0.0000, 0.0000,\n",
            "          0.0000, 0.0000, 0.0000, 0.0000, 0.0000, 0.0000, 0.0000, 0.0000,\n",
            "          0.0000, 0.0000, 0.0000, 0.0000],\n",
            "         [0.0000, 0.0000, 0.0000, 0.0000, 0.0000, 0.0000, 0.0000, 0.0000,\n",
            "          0.0000, 0.0000, 0.0000, 0.0000, 0.0000, 0.0000, 0.0000, 0.0000,\n",
            "          0.0000, 0.0000, 0.0000, 0.0000, 0.0000, 0.0000, 0.0000, 0.0000,\n",
            "          0.0000, 0.0000, 0.0000, 0.0000],\n",
            "         [0.0000, 0.0000, 0.0000, 0.0000, 0.0000, 0.0000, 0.0000, 0.0000,\n",
            "          0.0000, 0.0000, 0.0000, 0.0000, 0.0000, 0.0000, 0.0000, 0.0000,\n",
            "          0.0000, 0.0000, 0.0000, 0.0000, 0.0000, 0.0000, 0.0000, 0.0000,\n",
            "          0.0000, 0.0000, 0.0000, 0.0000]]])\n"
          ]
        },
        {
          "output_type": "execute_result",
          "data": {
            "text/plain": [
              "<matplotlib.image.AxesImage at 0x7fc4fea14460>"
            ]
          },
          "metadata": {},
          "execution_count": 5
        },
        {
          "output_type": "display_data",
          "data": {
            "text/plain": [
              "<Figure size 640x480 with 1 Axes>"
            ],
            "image/png": "[encoded data removed]"
          },
          "metadata": {}
        }
      ]
    },
    {
      "cell_type": "markdown",
      "source": [
        "To define a neural network in PyTorch, we use`nn.Sequential` and define the layers of the network. The `torch.nn` namespace provides all the building blocks you need to build your own neural network. Every module in PyTorch subclasses the `nn.Module` and a neural network is a module itself that consists of other modules (layers). This nested structure allows for building and managing complex architectures easily.\n",
        "\n",
        "To accelerate operations in the neural network, we move it to the GPU if available.\n"
      ],
      "metadata": {
        "id": "wtBWZKDcR2BY"
      }
    },
    {
      "cell_type": "code",
      "source": [
        "# Get cpu or gpu device for training.\n",
        "device = \"cuda\" if torch.cuda.is_available() else \"cpu\"\n",
        "print(f\"Using {device}\")\n"
      ],
      "metadata": {
        "colab": {
          "base_uri": "https://localhost:8080/"
        },
        "id": "v3-8ED3FR5gB",
        "outputId": "bfbff7ee-9621-4dea-a107-0c77477318cb"
      },
      "execution_count": null,
      "outputs": [
        {
          "output_type": "stream",
          "name": "stdout",
          "text": [
            "Using cpu\n"
          ]
        }
      ]
    },
    {
      "cell_type": "code",
      "source": [
        "# Define model\n",
        "model = nn.Sequential( # Ordered container of modules\n",
        "    nn.Flatten(), # Convert the 28x28 matrix of pixels into an array of length 784\n",
        "    nn.Linear(28*28, 512), # Apply a linear transformation on the input using weights and biases\n",
        "    nn.ReLU(), # Non-linear activation\n",
        "    nn.Linear(512, 512),\n",
        "    nn.ReLU(),\n",
        "    nn.Linear(512, 10)\n",
        ").to(device)\n",
        "\n",
        "print(model) # Print the structure of the neural network"
      ],
      "metadata": {
        "colab": {
          "base_uri": "https://localhost:8080/"
        },
        "id": "Qo780ErRSEdJ",
        "outputId": "35e9ac29-4ce6-439a-af03-6245f8cab683"
      },
      "execution_count": null,
      "outputs": [
        {
          "output_type": "stream",
          "name": "stdout",
          "text": [
            "Sequential(\n",
            "  (0): Flatten(start_dim=1, end_dim=-1)\n",
            "  (1): Linear(in_features=784, out_features=512, bias=True)\n",
            "  (2): ReLU()\n",
            "  (3): Linear(in_features=512, out_features=512, bias=True)\n",
            "  (4): ReLU()\n",
            "  (5): Linear(in_features=512, out_features=10, bias=True)\n",
            ")\n"
          ]
        }
      ]
    },
    {
      "cell_type": "markdown",
      "source": [
        "To train a model, we need a [loss function](https://pytorch.org/docs/stable/nn.html#loss-functions)\n",
        "and an [optimizer](https://pytorch.org/docs/stable/optim.html)."
      ],
      "metadata": {
        "id": "GBrnDRcgSHis"
      }
    },
    {
      "cell_type": "code",
      "source": [
        "loss_fn = nn.CrossEntropyLoss()\n",
        "\n",
        "learning_rate = 1e-3\n",
        "optimizer = torch.optim.SGD(model.parameters(), lr=learning_rate) # Pass model parameters to optimizer"
      ],
      "metadata": {
        "id": "of4odK7lSLtv"
      },
      "execution_count": null,
      "outputs": []
    },
    {
      "cell_type": "markdown",
      "source": [
        "In a single training loop, the model makes predictions on the training dataset (fed to it in batches), and\n",
        "backpropagates the prediction error to adjust the model's parameters.\n",
        "\n"
      ],
      "metadata": {
        "id": "LrC2vbZQSOc3"
      }
    },
    {
      "cell_type": "code",
      "source": [
        "def train(dataloader, model, loss_fn, optimizer):\n",
        "    '''\n",
        "    This function implements the train loop. It iterates over the training dataset\n",
        "    and try to converge to optimal parameters.\n",
        "    '''\n",
        "    size = len(dataloader.dataset)\n",
        "    model.train() # Set the model to training mode\n",
        "    for batch, (X, y) in enumerate(dataloader):\n",
        "        X, y = X.to(device), y.to(device)\n",
        "\n",
        "        # Compute prediction and loss\n",
        "        pred = model(X) # Pass the data to the model to execute the model forward\n",
        "        loss = loss_fn(pred, y)\n",
        "\n",
        "        # Backpropagation\n",
        "        loss.backward() # Compute gradients of the loss w.r.t parameters (backward pass)\n",
        "        optimizer.step() # Do a gradient descent step and adjust parameters\n",
        "        optimizer.zero_grad() # Reset the gradients of model parameters to zero (gradients by default add up)\n",
        "\n",
        "        if batch % 200 == 0:\n",
        "            loss, current = loss.item(), (batch + 1) * len(X)\n",
        "            print(f\"loss: {loss:>7f}  [{current:>5d}/{size:>5d}]\")"
      ],
      "metadata": {
        "id": "4BjyhExBSMi0"
      },
      "execution_count": null,
      "outputs": []
    },
    {
      "cell_type": "markdown",
      "source": [
        "We also check the model's performance against the test dataset to ensure it is learning.\n"
      ],
      "metadata": {
        "id": "uv4kHVz2SSMT"
      }
    },
    {
      "cell_type": "code",
      "source": [
        "def test(dataloader, model, loss_fn):\n",
        "    '''\n",
        "    This function implements the validation/test loop. It iterates over the test\n",
        "    dataset to check if the model performance is improving.\n",
        "    '''\n",
        "    size = len(dataloader.dataset)\n",
        "    num_batches = len(dataloader)\n",
        "    model.eval() # Set the model to evaluation mode\n",
        "    test_loss, correct = 0, 0\n",
        "    with torch.no_grad(): # Do not track gradients while evaluating (faster)\n",
        "        for X, y in dataloader:\n",
        "            X, y = X.to(device), y.to(device)\n",
        "            pred = model(X)\n",
        "            test_loss += loss_fn(pred, y).item() # Compute CE loss on the batch\n",
        "            correct += (pred.argmax(1) == y).type(torch.float).sum().item() # Compute classification error\n",
        "    test_loss /= num_batches\n",
        "    correct /= size\n",
        "    print(f\"Test Error: \\n Accuracy: {(100*correct):>0.1f}%, Avg loss: {test_loss:>8f} \\n\")"
      ],
      "metadata": {
        "id": "KIyCJRHBSRa_"
      },
      "execution_count": null,
      "outputs": []
    },
    {
      "cell_type": "markdown",
      "source": [
        "The training process is conducted over several iterations (*epochs*). We print the model's accuracy and loss at each epoch; we'd like to see the\n",
        "accuracy increase and the loss decrease with every epoch.\n",
        "\n"
      ],
      "metadata": {
        "id": "1jD9avRHYLnR"
      }
    },
    {
      "cell_type": "code",
      "source": [
        "epochs = 8\n",
        "for t in range(epochs):\n",
        "    print(f\"Epoch {t+1}\\n\")\n",
        "    train(train_dataloader, model, loss_fn, optimizer)\n",
        "    test(test_dataloader, model, loss_fn)\n",
        "\n",
        "print(\"Done!\")"
      ],
      "metadata": {
        "colab": {
          "base_uri": "https://localhost:8080/"
        },
        "id": "4-hA-zreYKw6",
        "outputId": "bd80452b-ab6d-4cb0-8f3c-5177facfbc94"
      },
      "execution_count": null,
      "outputs": [
        {
          "output_type": "stream",
          "name": "stdout",
          "text": [
            "Epoch 1\n",
            "\n",
            "loss: 2.306128  [   64/60000]\n",
            "loss: 2.280684  [12864/60000]\n",
            "loss: 2.261307  [25664/60000]\n",
            "loss: 2.219860  [38464/60000]\n",
            "loss: 2.193163  [51264/60000]\n",
            "Test Error: \n",
            " Accuracy: 39.1%, Avg loss: 2.162672 \n",
            "\n",
            "Epoch 2\n",
            "\n",
            "loss: 2.145481  [   64/60000]\n",
            "loss: 2.120371  [12864/60000]\n",
            "loss: 2.078746  [25664/60000]\n",
            "loss: 2.022705  [38464/60000]\n",
            "loss: 1.927360  [51264/60000]\n",
            "Test Error: \n",
            " Accuracy: 53.7%, Avg loss: 1.897353 \n",
            "\n",
            "Epoch 3\n",
            "\n",
            "loss: 1.841493  [   64/60000]\n",
            "loss: 1.792072  [12864/60000]\n",
            "loss: 1.712483  [25664/60000]\n",
            "loss: 1.616178  [38464/60000]\n",
            "loss: 1.579550  [51264/60000]\n",
            "Test Error: \n",
            " Accuracy: 62.9%, Avg loss: 1.532495 \n",
            "\n",
            "Epoch 4\n",
            "\n",
            "loss: 1.539383  [   64/60000]\n",
            "loss: 1.506407  [12864/60000]\n",
            "loss: 1.400458  [25664/60000]\n",
            "loss: 1.334926  [38464/60000]\n",
            "loss: 1.255318  [51264/60000]\n",
            "Test Error: \n",
            " Accuracy: 65.0%, Avg loss: 1.262559 \n",
            "\n",
            "Epoch 5\n",
            "\n",
            "loss: 1.241133  [   64/60000]\n",
            "loss: 1.178562  [12864/60000]\n",
            "loss: 1.215059  [25664/60000]\n",
            "loss: 1.147407  [38464/60000]\n",
            "loss: 1.085750  [51264/60000]\n",
            "Test Error: \n",
            " Accuracy: 66.0%, Avg loss: 1.091948 \n",
            "\n",
            "Epoch 6\n",
            "\n",
            "loss: 1.168034  [   64/60000]\n",
            "loss: 0.984254  [12864/60000]\n",
            "loss: 1.098315  [25664/60000]\n",
            "loss: 0.865294  [38464/60000]\n",
            "loss: 0.959868  [51264/60000]\n",
            "Test Error: \n",
            " Accuracy: 66.1%, Avg loss: 0.980656 \n",
            "\n",
            "Epoch 7\n",
            "\n",
            "loss: 0.911275  [   64/60000]\n",
            "loss: 0.920456  [12864/60000]\n",
            "loss: 0.892753  [25664/60000]\n",
            "loss: 0.975177  [38464/60000]\n",
            "loss: 0.896110  [51264/60000]\n",
            "Test Error: \n",
            " Accuracy: 68.1%, Avg loss: 0.904825 \n",
            "\n",
            "Epoch 8\n",
            "\n",
            "loss: 0.890030  [   64/60000]\n",
            "loss: 0.840851  [12864/60000]\n",
            "loss: 0.828290  [25664/60000]\n",
            "loss: 0.835270  [38464/60000]\n",
            "loss: 0.915484  [51264/60000]\n",
            "Test Error: \n",
            " Accuracy: 69.0%, Avg loss: 0.851360 \n",
            "\n",
            "Done!\n"
          ]
        }
      ]
    },
    {
      "cell_type": "markdown",
      "source": [
        "## Exercise: Searching for Supersymmetric Collisions with Neural Nets"
      ],
      "metadata": {
        "id": "JkTerCpIeaFN"
      }
    },
    {
      "cell_type": "code",
      "source": [
        "!wget https://archive.ics.uci.edu/ml/machine-learning-databases/00279/SUSY.csv.gz\n",
        "!gunzip \"/content/SUSY.csv.gz\" # If you are using noto.epfl.ch, change this line to !gunzip \"./SUSY.csv.gz\""
      ],
      "metadata": {
        "id": "Zoh_NNOUe4zW"
      },
      "execution_count": null,
      "outputs": []
    },
    {
      "cell_type": "markdown",
      "source": [
        "The SUSY dataset consists of 5 million simulated Monte Carlo samples\n",
        "of supersymmetric and non-supersymmetric collisions. The goal is to distinguish between a process\n",
        "where new supersymmetric particles are produced and a background process. The first 8 features are\n",
        "measurements of the final particle states, while the last 10 features are functions of the first 8 derived\n",
        "by physicists to help to discriminate the events."
      ],
      "metadata": {
        "id": "R71paLH2e0JP"
      }
    },
    {
      "cell_type": "code",
      "source": [
        "import numpy as np\n",
        "import torch\n",
        "from torch import nn\n",
        "from torch.utils.data import DataLoader\n",
        "from torchvision import datasets"
      ],
      "metadata": {
        "id": "STLQbWRcfK3j"
      },
      "execution_count": null,
      "outputs": []
    },
    {
      "cell_type": "markdown",
      "source": [
        "We provide the class `SUSY_Dataset` to load the train and test datasets."
      ],
      "metadata": {
        "id": "WEyGgOF4fzXO"
      }
    },
    {
      "cell_type": "code",
      "source": [
        "class SUSY_Dataset(torch.utils.data.Dataset):\n",
        "    \"\"\"SUSY pytorch dataset.\"\"\"\n",
        "\n",
        "    def __init__(self, data_file, root_dir, dataset_size, train=True, transform=None, high_level_feats=None):\n",
        "        \"\"\"\n",
        "        Args:\n",
        "            data_file (string): Path to the csv file with annotations.\n",
        "            root_dir (string): Directory with all the images.\n",
        "            dataset_size (int): Size of the full dataset which is splitted in 80% for train and 20% for test.\n",
        "            train (bool, optional): If set to `True` load training data.\n",
        "            transform (callable, optional): Optional transform to be applied on a sample.\n",
        "            high_level_festures (bool, optional): If set to `True`, working with high-level features only.\n",
        "                                        If set to `False`, working with low-level features only.\n",
        "                                        Default is `None`: working with all features\n",
        "        \"\"\"\n",
        "\n",
        "        import pandas as pd\n",
        "\n",
        "        features=['SUSY','lepton 1 pT', 'lepton 1 eta', 'lepton 1 phi', 'lepton 2 pT', 'lepton 2 eta', 'lepton 2 phi',\n",
        "                'missing energy magnitude', 'missing energy phi', 'MET_rel', 'axial MET', 'M_R', 'M_TR_2', 'R', 'MT2',\n",
        "                'S_R', 'M_Delta_R', 'dPhi_r_b', 'cos(theta_r1)']\n",
        "\n",
        "        low_features=['lepton 1 pT', 'lepton 1 eta', 'lepton 1 phi', 'lepton 2 pT', 'lepton 2 eta', 'lepton 2 phi',\n",
        "                'missing energy magnitude', 'missing energy phi']\n",
        "\n",
        "        high_features=['MET_rel', 'axial MET', 'M_R', 'M_TR_2', 'R', 'MT2','S_R', 'M_Delta_R', 'dPhi_r_b', 'cos(theta_r1)']\n",
        "\n",
        "        # Number of datapoints to work with\n",
        "        df = pd.read_csv(root_dir+data_file, header=None,nrows=dataset_size,engine='python')\n",
        "        df.columns=features\n",
        "        Y = df['SUSY']\n",
        "        X = df[[col for col in df.columns if col!=\"SUSY\"]]\n",
        "\n",
        "        # Set training and test data size\n",
        "        train_size=int(0.8*dataset_size)\n",
        "        self.train=train\n",
        "\n",
        "        if self.train:\n",
        "            X=X[:train_size]\n",
        "            Y=Y[:train_size]\n",
        "            print(\"Training on {} examples\".format(train_size))\n",
        "        else:\n",
        "            X=X[train_size:]\n",
        "            Y=Y[train_size:]\n",
        "            print(\"Testing on {} examples\".format(dataset_size-train_size))\n",
        "\n",
        "        self.root_dir = root_dir\n",
        "        self.transform = transform\n",
        "\n",
        "        # make datasets using only the 8 low-level features and 10 high-level features\n",
        "        if high_level_feats is None:\n",
        "            self.data=(X.values.astype(np.float32),Y.values.astype(int))\n",
        "            print(\"Using both high and low level features\")\n",
        "        elif high_level_feats is True:\n",
        "            self.data=(X[high_features].values.astype(np.float32),Y.values.astype(int))\n",
        "            print(\"Using both high-level features only.\")\n",
        "        elif high_level_feats is False:\n",
        "            self.data=(X[low_features].values.astype(np.float32),Y.values.astype(int))\n",
        "            print(\"Using both low-level features only.\")\n",
        "\n",
        "    # override __len__ and __getitem__ of the Dataset() class\n",
        "\n",
        "    def __len__(self):\n",
        "        return len(self.data[1])\n",
        "\n",
        "    def __getitem__(self, idx):\n",
        "\n",
        "        sample=(self.data[0][idx,...],self.data[1][idx])\n",
        "\n",
        "        if self.transform:\n",
        "            sample=self.transform(sample)\n",
        "\n",
        "        return sample"
      ],
      "metadata": {
        "id": "OR1ddjzOfNVr"
      },
      "execution_count": null,
      "outputs": []
    },
    {
      "cell_type": "code",
      "source": [
        "training_data = SUSY_Dataset(\n",
        "    data_file='SUSY.csv',\n",
        "    root_dir='./',\n",
        "    dataset_size=2000,\n",
        "    train=True,\n",
        "    )\n",
        "\n",
        "test_data = SUSY_Dataset(\n",
        "    data_file='SUSY.csv',\n",
        "    root_dir='./',\n",
        "    dataset_size=2000,\n",
        "    train=False,\n",
        "    )"
      ],
      "metadata": {
        "id": "tsmDk969fiNt"
      },
      "execution_count": null,
      "outputs": []
    },
    {
      "cell_type": "markdown",
      "source": [
        "1. To train our neural network with SGD, we want to pass the samples in batches. Build the train and\n",
        "test data loaders, setting the batch size to 100 and activating reshuffling at each epoch for the train\n",
        "data by setting `shuffle=True`."
      ],
      "metadata": {
        "id": "S7dPzGZbft31"
      }
    },
    {
      "cell_type": "markdown",
      "source": [
        "2. Define a fully connected ReLU neural network taking an 18-dimensional input, with two hidden layers with 200 neurons, one hidden layer with 100 neurons, and a final linear layer with two outputs."
      ],
      "metadata": {
        "id": "_L4KiIxLgMtp"
      }
    },
    {
      "cell_type": "markdown",
      "source": [
        "3. Using the cross-entropy loss and SGD with learning rate 1e-2, train the model for 100 epochs (if you are using noto.epfl.ch, you can train for 30 epochs only). You can use the train and test loops defined in the previous exercise."
      ],
      "metadata": {
        "id": "pMH_7mPTgZPa"
      }
    }
  ]
}