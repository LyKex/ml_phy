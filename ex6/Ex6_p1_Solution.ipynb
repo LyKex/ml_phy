{
 "cells": [
  {
   "cell_type": "code",
   "execution_count": null,
   "metadata": {
    "id": "ROEehen5W770"
   },
   "outputs": [],
   "source": [
    "import numpy as np\n",
    "import matplotlib.pyplot as plt\n",
    "import scipy.linalg as sla\n"
   ]
  },
  {
   "cell_type": "markdown",
   "metadata": {
    "id": "sy63eV30ehE3"
   },
   "source": [
    "# Exercise 1: BBP Phase Transition in the Cards Game"
   ]
  },
  {
   "cell_type": "markdown",
   "metadata": {
    "id": "TyaygwNpenat"
   },
   "source": [
    "1. Write a function to generate the *cards game dataset*. This function should generate a $N$-dimensional vector $s$ with random components $s_i \\in \\{\\pm1\\}$ and return it together with the matrix $Y = \\frac{1}{\\sqrt{N}}ss^\\top + W$, where W is a symmetric noise matrix with i.i.d. entries sampled from a Gaussian distribution $N(0,\\Delta)$. Be careful when generating $W$!"
   ]
  },
  {
   "cell_type": "code",
   "execution_count": null,
   "metadata": {
    "id": "lIYdn1woOS1n"
   },
   "outputs": [],
   "source": [
    "# Generate the cards game dataset\n",
    "\n",
    "def card_game_dataset(N, Delta):\n",
    "\n",
    "    s = np.random.choice([1., -1.], size=(N,1))\n",
    "    W = np.random.randn(N, N) * np.sqrt(Delta)\n",
    "    W = np.tril(W) + np.tril(W, -1).T\n",
    "    Y = s @ s.T / np.sqrt(N) + W\n",
    "\n",
    "    return s, Y\n"
   ]
  },
  {
   "cell_type": "markdown",
   "metadata": {
    "id": "9TmqfdWtfK97"
   },
   "source": [
    "2. For $\\Delta \\in \\{0.001,\\, 0.01,\\, 0.1,\\, 1,\\,10\\}$, diagonalize the matrix $Y$ and plot a histogram with the spectrum. What do you observe?"
   ]
  },
  {
   "cell_type": "code",
   "execution_count": null,
   "metadata": {
    "colab": {
     "base_uri": "https://localhost:8080/",
     "height": 1000
    },
    "id": "-2n3ZOstfKMt",
    "outputId": "edeb4a00-ff47-4033-9dc6-dc14ff84fdec"
   },
   "outputs": [
    {
     "name": "stdout",
     "output_type": "stream",
     "text": [
      "delta = 0.001\n"
     ]
    },
    {
     "data": {
      "image/png": "[encoded data removed]",
      "text/plain": [
       "<Figure size 432x288 with 1 Axes>"
      ]
     },
     "metadata": {
      "needs_background": "light"
     },
     "output_type": "display_data"
    },
    {
     "name": "stdout",
     "output_type": "stream",
     "text": [
      "delta = 0.01\n"
     ]
    },
    {
     "data": {
      "image/png": "[encoded data removed]",
      "text/plain": [
       "<Figure size 432x288 with 1 Axes>"
      ]
     },
     "metadata": {
      "needs_background": "light"
     },
     "output_type": "display_data"
    },
    {
     "name": "stdout",
     "output_type": "stream",
     "text": [
      "delta = 0.1\n"
     ]
    },
    {
     "data": {
      "image/png": "[encoded data removed]",
      "text/plain": [
       "<Figure size 432x288 with 1 Axes>"
      ]
     },
     "metadata": {
      "needs_background": "light"
     },
     "output_type": "display_data"
    },
    {
     "name": "stdout",
     "output_type": "stream",
     "text": [
      "delta = 1.0\n"
     ]
    },
    {
     "data": {
      "image/png": "[encoded data removed]",
      "text/plain": [
       "<Figure size 432x288 with 1 Axes>"
      ]
     },
     "metadata": {
      "needs_background": "light"
     },
     "output_type": "display_data"
    },
    {
     "name": "stdout",
     "output_type": "stream",
     "text": [
      "delta = 10.0\n"
     ]
    },
    {
     "data": {
      "image/png": "[encoded data removed]",
      "text/plain": [
       "<Figure size 432x288 with 1 Axes>"
      ]
     },
     "metadata": {
      "needs_background": "light"
     },
     "output_type": "display_data"
    }
   ],
   "source": [
    "# Plot the spectrum for N = 1000, delta = {.001, .01, .1, 10, 100}\n",
    "\n",
    "N = 1000\n",
    "\n",
    "Deltas = np.logspace(-3, 1, 5)\n",
    "\n",
    "for Delta in Deltas:\n",
    "\n",
    "    print(f'delta = {Delta}')\n",
    "    _, Y = card_game_dataset(N, Delta)\n",
    "    eval, evec = np.linalg.eigh(Y)\n",
    "    plt.hist(eval, bins=50)\n",
    "    plt.show();\n",
    "    "
   ]
  },
  {
   "cell_type": "markdown",
   "metadata": {},
   "source": [
    "There is an outlying eigenvalue (spike), which gets swallowed by the bulk as $\\Delta$ exceeds a certain value."
   ]
  },
  {
   "cell_type": "markdown",
   "metadata": {
    "id": "1qL2HNCjfeA-"
   },
   "source": [
    "3. We are going to infer the cards' values $s_i$ using the spectral estimator $\\hat{s}_i = \\text{sign}(e_i^{\\max})$, with $e_i^{\\max}$ the $i$-th component of eigenvector corresponding to the largest eigenvalue. Compute the alignment $$Q = {\\rm abs}\\left(\\frac{1}{N} \\sum_{i=1}^N s_i \\hat{s}_i \\right).$$\n",
    "Notice the absolute value in order to take into account the symmetry $s \\to -s$ in the problem. Compute $Q$ for different values of $\\Delta$ between 0 and 3. Average over 5 realizations for each considered value of $\\Delta$, and plot $Q$ vs $\\Delta$. Comment. What kind of phase transition do you observe? How is the spectrum of Y related to the recovery of the two groups?"
   ]
  },
  {
   "cell_type": "code",
   "execution_count": null,
   "metadata": {
    "colab": {
     "base_uri": "https://localhost:8080/",
     "height": 281
    },
    "id": "2t6qyNgEfcrT",
    "outputId": "bcf05373-9af8-40f2-bb0d-cf03719fe76e"
   },
   "outputs": [
    {
     "data": {
      "image/png": "[encoded data removed]",
      "text/plain": [
       "<Figure size 432x288 with 1 Axes>"
      ]
     },
     "metadata": {
      "needs_background": "light"
     },
     "output_type": "display_data"
    }
   ],
   "source": [
    "# Compute the alignment Q of the spectral estimator with the vector S\n",
    "\n",
    "Deltas = np.linspace(0, 3, 20)\n",
    "\n",
    "Q = []\n",
    "exps = 5\n",
    "\n",
    "for Delta in Deltas:\n",
    "\n",
    "    q = np.zeros(exps)\n",
    "\n",
    "    for exp in range(exps):\n",
    "        S, Y = card_game_dataset(N, Delta)\n",
    "        max_eval, max_evec = sla.eigh(Y, eigvals=(len(Y)-1, len(Y)-1))\n",
    "        q[exp] = np.absolute((np.sign(max_evec) * S).mean())\n",
    "\n",
    "    Q.append(q.mean())\n",
    "\n",
    "plt.plot(Deltas, Q, 'o')\n",
    "plt.xlabel('$\\Delta$')\n",
    "plt.ylabel('Q');\n"
   ]
  },
  {
   "cell_type": "markdown",
   "metadata": {},
   "source": [
    "One can observe a transition from a phase where the signal is undetectable ($Q=0$) for large noises $\\Delta$ to a phase where $Q>0$ for smaller noises. The value of $\\Delta$ at which the signal can be retrieved corresponds to the value for which the spike emerges from the bulk spectrum."
   ]
  }
 ],
 "metadata": {
  "colab": {
   "collapsed_sections": [],
   "provenance": []
  },
  "kernelspec": {
   "display_name": "Python 3",
   "language": "python",
   "name": "python3"
  },
  "language_info": {
   "codemirror_mode": {
    "name": "ipython",
    "version": 3
   },
   "file_extension": ".py",
   "mimetype": "text/x-python",
   "name": "python",
   "nbconvert_exporter": "python",
   "pygments_lexer": "ipython3",
   "version": "3.8.8"
  }
 },
 "nbformat": 4,
 "nbformat_minor": 1
}
