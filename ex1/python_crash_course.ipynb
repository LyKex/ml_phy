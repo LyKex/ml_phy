{
  "cells": [
    {
      "cell_type": "markdown",
      "metadata": {
        "id": "PPqzb58f5tEt"
      },
      "source": [
        "# Python crash course\n",
        " Taken in part from the [official python tutorials ](https://docs.python.org/3.8/tutorial/index.html)\n",
        "\n",
        "  [Official python documentation](https://docs.python.org/3/)\n"
      ]
    },
    {
      "cell_type": "markdown",
      "metadata": {
        "id": "sNA9CWMa6r-u"
      },
      "source": [
        "## Basic arithmetics"
      ]
    },
    {
      "cell_type": "code",
      "execution_count": 1,
      "metadata": {
        "colab": {
          "base_uri": "https://localhost:8080/"
        },
        "id": "twdfrghu5kSE",
        "outputId": "8262a49f-d392-4190-a34a-93c1a9279132"
      },
      "outputs": [
        {
          "data": {
            "text/plain": [
              "2"
            ]
          },
          "execution_count": 1,
          "metadata": {},
          "output_type": "execute_result"
        }
      ],
      "source": [
        "1+1 "
      ]
    },
    {
      "cell_type": "code",
      "execution_count": 2,
      "metadata": {
        "colab": {
          "base_uri": "https://localhost:8080/"
        },
        "id": "MW9oA_1V6jxD",
        "outputId": "aaacf976-09d7-47d8-9328-93b807fd19dd"
      },
      "outputs": [
        {
          "data": {
            "text/plain": [
              "10"
            ]
          },
          "execution_count": 2,
          "metadata": {},
          "output_type": "execute_result"
        }
      ],
      "source": [
        "20*2-30"
      ]
    },
    {
      "cell_type": "code",
      "execution_count": 3,
      "metadata": {
        "colab": {
          "base_uri": "https://localhost:8080/"
        },
        "id": "siD9CsahDKn0",
        "outputId": "ae14dce9-1c4d-4b26-8ff3-b34ddbc9f11f"
      },
      "outputs": [
        {
          "data": {
            "text/plain": [
              "1.6"
            ]
          },
          "execution_count": 3,
          "metadata": {},
          "output_type": "execute_result"
        }
      ],
      "source": [
        "8 / 5  # division always returns a floating point number"
      ]
    },
    {
      "cell_type": "code",
      "execution_count": 4,
      "metadata": {
        "colab": {
          "base_uri": "https://localhost:8080/"
        },
        "id": "j71sytfgDeXl",
        "outputId": "88870a1f-076c-4d7e-fa26-7f777331710f"
      },
      "outputs": [
        {
          "data": {
            "text/plain": [
              "1"
            ]
          },
          "execution_count": 4,
          "metadata": {},
          "output_type": "execute_result"
        }
      ],
      "source": [
        "8//5 #floor division"
      ]
    },
    {
      "cell_type": "code",
      "execution_count": 3,
      "metadata": {
        "colab": {
          "base_uri": "https://localhost:8080/"
        },
        "id": "8dopqKsJDlmC",
        "outputId": "f3475ee6-3cae-40d3-e006-cfbaf233162c"
      },
      "outputs": [
        {
          "data": {
            "text/plain": [
              "2"
            ]
          },
          "execution_count": 3,
          "metadata": {},
          "output_type": "execute_result"
        }
      ],
      "source": [
        "17%3# remainder of the division (i.e. 17/3= 17//3 + 17%3/3)"
      ]
    },
    {
      "cell_type": "code",
      "execution_count": 4,
      "metadata": {
        "colab": {
          "base_uri": "https://localhost:8080/"
        },
        "id": "jmZ4heQh62ox",
        "outputId": "1b302e4e-4305-4987-9e05-faafea7a6e60"
      },
      "outputs": [
        {
          "data": {
            "text/plain": [
              "8"
            ]
          },
          "execution_count": 4,
          "metadata": {},
          "output_type": "execute_result"
        }
      ],
      "source": [
        "2**3 #powers"
      ]
    },
    {
      "cell_type": "code",
      "execution_count": 7,
      "metadata": {
        "colab": {
          "base_uri": "https://localhost:8080/"
        },
        "id": "R6ltyhSQJcY7",
        "outputId": "f2c0f89a-8bfa-48eb-c8dd-0a4aa692b00e"
      },
      "outputs": [
        {
          "data": {
            "text/plain": [
              "(-1+0j)"
            ]
          },
          "execution_count": 7,
          "metadata": {},
          "output_type": "execute_result"
        }
      ],
      "source": [
        "# 1j is the imaginary unit\n",
        "1j**2"
      ]
    },
    {
      "cell_type": "code",
      "execution_count": 8,
      "metadata": {
        "colab": {
          "base_uri": "https://localhost:8080/"
        },
        "id": "1Xwu-MmfCwNb",
        "outputId": "711f0870-f141-4c35-c7a5-c0430874d1d5"
      },
      "outputs": [
        {
          "data": {
            "text/plain": [
              "(3-1j)"
            ]
          },
          "execution_count": 8,
          "metadata": {},
          "output_type": "execute_result"
        }
      ],
      "source": [
        "(1+1j)*(1-2j) #complex multiplication"
      ]
    },
    {
      "cell_type": "markdown",
      "metadata": {
        "id": "nRthJeKHD-e8"
      },
      "source": [
        "## Declaring and assigning variables"
      ]
    },
    {
      "cell_type": "code",
      "execution_count": 29,
      "metadata": {
        "colab": {
          "base_uri": "https://localhost:8080/"
        },
        "id": "K0GcWOMKD3hd",
        "outputId": "9a80dd4d-02bd-4031-9a77-04d301ad3cac"
      },
      "outputs": [
        {
          "data": {
            "text/plain": [
              "7.45"
            ]
          },
          "execution_count": 29,
          "metadata": {},
          "output_type": "execute_result"
        }
      ],
      "source": [
        "a=2\n",
        "b=5.450\n",
        "c=a+b\n",
        "c"
      ]
    },
    {
      "cell_type": "markdown",
      "metadata": {
        "id": "jGfjsfALGp0J"
      },
      "source": [
        "## Strings"
      ]
    },
    {
      "cell_type": "code",
      "execution_count": 30,
      "metadata": {
        "colab": {
          "base_uri": "https://localhost:8080/",
          "height": 35
        },
        "id": "nwfXLMoNGgtX",
        "outputId": "fbba9d44-d7a2-4e55-cf69-7254d1d47520"
      },
      "outputs": [
        {
          "data": {
            "text/plain": [
              "'the quick brown fox jumps over the lazy dog'"
            ]
          },
          "execution_count": 30,
          "metadata": {},
          "output_type": "execute_result"
        }
      ],
      "source": [
        "a=\"the quick brown fox jumps over the lazy dog\"\n",
        "a"
      ]
    },
    {
      "cell_type": "code",
      "execution_count": 33,
      "metadata": {
        "colab": {
          "base_uri": "https://localhost:8080/"
        },
        "id": "rfUF3hBxG_N3",
        "outputId": "33666eba-6984-455a-9e46-f39cbbc39e10"
      },
      "outputs": [
        {
          "name": "stdout",
          "output_type": "stream",
          "text": [
            "the quick brown fox jumps over the lazy dog the quick brown fox jumps over the lazy dog\n",
            "the quick brown fox jumps over the lazy dog\n",
            "the quick brown fox jumps over the lazy dog\n"
          ]
        }
      ],
      "source": [
        "#concatenating operator (+)\n",
        "print(a+\" \"+a) \n",
        "\n",
        "b=a+\"\\n\"+a #new line\n",
        "print(b) "
      ]
    },
    {
      "cell_type": "code",
      "execution_count": 13,
      "metadata": {
        "colab": {
          "base_uri": "https://localhost:8080/"
        },
        "id": "iYeA7TszHUtR",
        "outputId": "c218f7f2-2a79-4b1a-c12a-12d6e04c170c"
      },
      "outputs": [
        {
          "name": "stdout",
          "output_type": "stream",
          "text": [
            "t\n",
            "g\n",
            "e quick \n",
            "eqik\n"
          ]
        }
      ],
      "source": [
        "# Each character of the string can be\n",
        "print(a[0])\n",
        "print(a[-1]) # negative indices count form the end \n",
        "print(a[2:10]) # [start: stop]\n",
        "print(a[2:10:2])# [start:stop:step]"
      ]
    },
    {
      "cell_type": "code",
      "execution_count": 14,
      "metadata": {
        "colab": {
          "base_uri": "https://localhost:8080/"
        },
        "id": "d0xUjzBbIK3H",
        "outputId": "a8c2c2c8-36dd-48c2-9119-caa73d7b8dbf"
      },
      "outputs": [
        {
          "data": {
            "text/plain": [
              "43"
            ]
          },
          "execution_count": 14,
          "metadata": {},
          "output_type": "execute_result"
        }
      ],
      "source": [
        "len(a) #length"
      ]
    },
    {
      "cell_type": "markdown",
      "metadata": {
        "id": "huyB8kCSISAg"
      },
      "source": [
        "## Lists"
      ]
    },
    {
      "cell_type": "code",
      "execution_count": 25,
      "metadata": {
        "colab": {
          "base_uri": "https://localhost:8080/"
        },
        "id": "34FyL_YQIOTw",
        "outputId": "f521f6cd-c66b-4520-d35b-2bf0b1f32135"
      },
      "outputs": [
        {
          "data": {
            "text/plain": [
              "[1, 4, 9, 16, 25]"
            ]
          },
          "execution_count": 25,
          "metadata": {},
          "output_type": "execute_result"
        }
      ],
      "source": [
        "squares = [1, 4, 9, 16, 25]\n",
        "squares"
      ]
    },
    {
      "cell_type": "code",
      "execution_count": 26,
      "metadata": {
        "colab": {
          "base_uri": "https://localhost:8080/"
        },
        "id": "DTjWG07fIQRP",
        "outputId": "995fe53c-a492-41bf-9fd5-d20f0cf51d4e"
      },
      "outputs": [
        {
          "name": "stdout",
          "output_type": "stream",
          "text": [
            "9\n",
            "[9, 16]\n",
            "[1, 9]\n",
            "9\n"
          ]
        }
      ],
      "source": [
        "# Same indexing rules as strings, first index is 0\n",
        "print(squares[2])\n",
        "print(squares[2:4])\n",
        "# start:end:step can also be used\n",
        "print(squares[0:4:2])\n",
        "# Negative indices count from the end, start at -1\n",
        "print(squares[-3])"
      ]
    },
    {
      "cell_type": "code",
      "execution_count": 27,
      "metadata": {
        "colab": {
          "base_uri": "https://localhost:8080/"
        },
        "id": "yiNofsCtIY_P",
        "outputId": "c59acb0e-a4c3-483b-ce50-940ef4972ede"
      },
      "outputs": [
        {
          "name": "stdout",
          "output_type": "stream",
          "text": [
            "[1, 4, 9, 16, 25, 36]\n",
            "[0, 1, 4, 9, 16, 25, 36]\n",
            "[1, 4, 9, 16, 25, 36]\n"
          ]
        }
      ],
      "source": [
        "# Add at the end of the list\n",
        "squares.append(36)\n",
        "print(squares)"
      ]
    },
    {
      "cell_type": "code",
      "execution_count": 12,
      "metadata": {
        "colab": {
          "base_uri": "https://localhost:8080/"
        },
        "id": "T1JFNOQqI1pg",
        "outputId": "e44637ab-b213-44db-e5a0-24ce6ba8dd91"
      },
      "outputs": [
        {
          "name": "stdout",
          "output_type": "stream",
          "text": [
            "[1, 4, 9, 16, 25, 49, 36, 49]\n"
          ]
        }
      ],
      "source": [
        "squares.remove(36)\n",
        "# the following line will raise an error\n",
        "# squares.remove(100)\n",
        "squares = squares + [36,49]\n",
        "print(squares)"
      ]
    },
    {
      "cell_type": "code",
      "execution_count": 13,
      "metadata": {
        "colab": {
          "base_uri": "https://localhost:8080/"
        },
        "id": "UY1dFtahI_bB",
        "outputId": "e116502d-ba02-4948-f830-f3a759b92316"
      },
      "outputs": [
        {
          "name": "stdout",
          "output_type": "stream",
          "text": [
            "['a', 35, [1, 4, 9, 16, 25, 49, 36, 49], -293.929, [1, 2], (1+3j)]\n",
            "2\n"
          ]
        }
      ],
      "source": [
        "var=35\n",
        "random_list=['a',var, squares, -293.929, [1,2], 1+3j] #lists can be heterogeneous\n",
        "print(random_list)\n",
        "print(random_list[4][1])"
      ]
    },
    {
      "cell_type": "code",
      "execution_count": 20,
      "metadata": {
        "id": "L6ZCbHZKSktq"
      },
      "outputs": [],
      "source": [
        "random_list.append([1,2,3])\n",
        "random_list.insert(2,'qwerty')\n",
        "random_list.remove('a')"
      ]
    },
    {
      "cell_type": "code",
      "execution_count": 21,
      "metadata": {
        "colab": {
          "base_uri": "https://localhost:8080/"
        },
        "id": "1XJSPfTfS7o7",
        "outputId": "519c0d02-d2d5-4957-c66e-6f8feb974eec"
      },
      "outputs": [
        {
          "data": {
            "text/plain": [
              "[1, 2, 100, 4]"
            ]
          },
          "execution_count": 21,
          "metadata": {},
          "output_type": "execute_result"
        }
      ],
      "source": [
        "# how NOT to copy a list\n",
        "list1=[1,2,3,4]\n",
        "list2 = list1\n",
        "list2[2]=100\n",
        "list1"
      ]
    },
    {
      "cell_type": "markdown",
      "metadata": {
        "id": "bvU2AdJLoq25"
      },
      "source": [
        "In the previous cell `list1` was copied by _reference_. This means that `list2=list1` point to the _same_ object in the memory, instead of creating a new object, defines a new pointer `list2` that references the same object as `list1` in memory."
      ]
    },
    {
      "cell_type": "code",
      "execution_count": 22,
      "metadata": {
        "colab": {
          "base_uri": "https://localhost:8080/"
        },
        "id": "08q1xqgbTN1L",
        "outputId": "faa9d96d-b018-4070-fddc-aec8b7ffa1ed"
      },
      "outputs": [
        {
          "data": {
            "text/plain": [
              "[1, 2, 3, 4]"
            ]
          },
          "execution_count": 22,
          "metadata": {},
          "output_type": "execute_result"
        }
      ],
      "source": [
        "#how to copy a list\n",
        "list1=[1,2,3,4]\n",
        "list2=list1.copy() #<-----\n",
        "list2[2]=100\n",
        "list1"
      ]
    },
    {
      "cell_type": "markdown",
      "metadata": {},
      "source": [
        "**Exercise**"
      ]
    },
    {
      "cell_type": "code",
      "execution_count": 1,
      "metadata": {},
      "outputs": [
        {
          "name": "stdout",
          "output_type": "stream",
          "text": [
            "[[1, 0, 0, 0, 0, 0, 0, 0, 0, 0], [1, 0, 0, 0, 0, 0, 0, 0, 0, 0], [1, 0, 0, 0, 0, 0, 0, 0, 0, 0], [1, 0, 0, 0, 0, 0, 0, 0, 0, 0], [1, 0, 0, 0, 0, 0, 0, 0, 0, 0], [1, 0, 0, 0, 0, 0, 0, 0, 0, 0], [1, 0, 0, 0, 0, 0, 0, 0, 0, 0], [1, 0, 0, 0, 0, 0, 0, 0, 0, 0], [1, 0, 0, 0, 0, 0, 0, 0, 0, 0], [1, 0, 0, 0, 0, 0, 0, 0, 0, 0]]\n"
          ]
        }
      ],
      "source": [
        "# Define a matrix of size 10 x 10 \n",
        "matrix = [[0] * 10] * 10\n",
        "matrix[0][0] = 1\n",
        "\n",
        "print(matrix)\n",
        "\n",
        "# QUESTION : What do you notice ? How to fix it ?"
      ]
    },
    {
      "cell_type": "markdown",
      "metadata": {},
      "source": [
        "## Dictionnaries\n",
        "\n",
        "Dictionnaries are a collection of variables that are indexed not by integers (like lists) but with other types of variables (e.g. strings, floats)."
      ]
    },
    {
      "cell_type": "code",
      "execution_count": 60,
      "metadata": {},
      "outputs": [
        {
          "name": "stdout",
          "output_type": "stream",
          "text": [
            "Victor Hugo wrote Les Miserables\n",
            "{'a': 1, 'b': 2, 'c': 3}\n"
          ]
        }
      ],
      "source": [
        "# The variable before ':' is called the key, while the variable after ':' is called the value.\n",
        "\n",
        "books = {\n",
        "    'Victor Hugo' : 'Les Miserables',\n",
        "    'J.R.R. Tolkien' : 'The Lord of the Rings',\n",
        "    'Emmanuel Kant' : 'Critique of Pure Reason',\n",
        "}\n",
        "\n",
        "# We access the elements of a dictionary by using the key as an index.\n",
        "print('Victor Hugo wrote ' + books['Victor Hugo'])\n",
        "\n",
        "# We can create dictionnaries from lists\n",
        "list_to_dict = [['a', 1], ['b', 2], ['c', 3]]\n",
        "print(dict(list_to_dict))"
      ]
    },
    {
      "cell_type": "markdown",
      "metadata": {
        "id": "Vrrp5wQMKG3f"
      },
      "source": [
        "## Printing"
      ]
    },
    {
      "cell_type": "code",
      "execution_count": 53,
      "metadata": {
        "colab": {
          "base_uri": "https://localhost:8080/"
        },
        "id": "wJHk0AGtLTAN",
        "outputId": "389b72a0-8df9-4ffe-eae0-7958bedaa372"
      },
      "outputs": [
        {
          "name": "stdout",
          "output_type": "stream",
          "text": [
            "x=35 y=290.39343939339\n",
            "[1, 2, 3, 'cucu']\n",
            "a=33 b=42\n"
          ]
        },
        {
          "ename": "TypeError",
          "evalue": "can only concatenate str (not \"int\") to str",
          "output_type": "error",
          "traceback": [
            "\u001b[0;31m---------------------------------------------------------------------------\u001b[0m",
            "\u001b[0;31mTypeError\u001b[0m                                 Traceback (most recent call last)",
            "\u001b[1;32m/Users/clarte/Desktop/python_crash_course.ipynb Cellule 33\u001b[0m line \u001b[0;36m<cell line: 9>\u001b[0;34m()\u001b[0m\n\u001b[1;32m      <a href='vscode-notebook-cell:/Users/clarte/Desktop/python_crash_course.ipynb#X43sZmlsZQ%3D%3D?line=6'>7</a>\u001b[0m b\u001b[39m=\u001b[39m\u001b[39m42\u001b[39m\n\u001b[1;32m      <a href='vscode-notebook-cell:/Users/clarte/Desktop/python_crash_course.ipynb#X43sZmlsZQ%3D%3D?line=7'>8</a>\u001b[0m \u001b[39mprint\u001b[39m(\u001b[39m\"\u001b[39m\u001b[39ma=\u001b[39m\u001b[39m\"\u001b[39m\u001b[39m+\u001b[39m\u001b[39mstr\u001b[39m(a)\u001b[39m+\u001b[39m\u001b[39m\"\u001b[39m\u001b[39m b=\u001b[39m\u001b[39m\"\u001b[39m\u001b[39m+\u001b[39m\u001b[39mstr\u001b[39m(b))\n\u001b[0;32m----> <a href='vscode-notebook-cell:/Users/clarte/Desktop/python_crash_course.ipynb#X43sZmlsZQ%3D%3D?line=8'>9</a>\u001b[0m \u001b[39mprint\u001b[39m(\u001b[39m\"\u001b[39;49m\u001b[39ma=\u001b[39;49m\u001b[39m\"\u001b[39;49m\u001b[39m+\u001b[39;49ma\u001b[39m+\u001b[39m\u001b[39m\"\u001b[39m\u001b[39m b=\u001b[39m\u001b[39m\"\u001b[39m\u001b[39m+\u001b[39mb)\n",
            "\u001b[0;31mTypeError\u001b[0m: can only concatenate str (not \"int\") to str"
          ]
        }
      ],
      "source": [
        "X=35\n",
        "Y=290.39343939339\n",
        "print(f'x={X} y={Y}')\n",
        "print([1,2,3,'cucu'])\n",
        "\n",
        "a=33\n",
        "b=42\n",
        "print(\"a=\"+str(a)+\" b=\"+str(b))\n",
        "\n",
        "# Does not work ! \n",
        "print(\"a=\"+a+\" b=\"+b)"
      ]
    },
    {
      "cell_type": "markdown",
      "metadata": {
        "id": "-vQtCvdlKM-z"
      },
      "source": [
        "## Flow control"
      ]
    },
    {
      "cell_type": "code",
      "execution_count": 56,
      "metadata": {
        "colab": {
          "base_uri": "https://localhost:8080/"
        },
        "id": "ef5eIHjtL5mR",
        "outputId": "c5ad8f1d-5830-4344-92b4-0d47eb2fcad7"
      },
      "outputs": [
        {
          "name": "stdout",
          "output_type": "stream",
          "text": [
            "x is greater than zero\n",
            "x is between 0 and 10\n",
            "x is greater than 0 or less than -10\n"
          ]
        }
      ],
      "source": [
        "#if statements\n",
        "\n",
        "x = 5\n",
        "if x > 0:\n",
        "    print(\"x is greater than zero\")\n",
        "elif(x==0):\n",
        "    print(\"x is exactly zero\")\n",
        "else:\n",
        "    print(\"x is negative\")\n",
        "\n",
        "if x > 0 and x < 10:\n",
        "    print(\"x is between 0 and 10\")\n",
        "\n",
        "if x > 0 or x < -10:\n",
        "    print(\"x is greater than 0 or less than -10\")\n",
        "\n",
        "if not x > 0:\n",
        "    print(\"x is not greater than 0\")"
      ]
    },
    {
      "cell_type": "code",
      "execution_count": 26,
      "metadata": {
        "colab": {
          "base_uri": "https://localhost:8080/"
        },
        "id": "1Y7jomlbMqxu",
        "outputId": "8751d3f3-5c74-4141-b5d3-c19bb8c6e333"
      },
      "outputs": [
        {
          "name": "stdout",
          "output_type": "stream",
          "text": [
            "0\n",
            "1\n",
            "2\n",
            "3\n",
            "4\n"
          ]
        }
      ],
      "source": [
        "# Looping over lists\n",
        "\n",
        "integers = [0,1,2,3,4]\n",
        "\n",
        "for i in integers:\n",
        "    print(i)\n",
        "\n",
        "# We can loop over dictionnaries by looping over their keys\n",
        "for author in books:\n",
        "    print(author + ' has written ' + books[author])"
      ]
    },
    {
      "cell_type": "code",
      "execution_count": 27,
      "metadata": {
        "colab": {
          "base_uri": "https://localhost:8080/"
        },
        "id": "SMyu-I38N1NP",
        "outputId": "c59f0ca2-948f-4eaa-854d-aa9a226b547a"
      },
      "outputs": [
        {
          "name": "stdout",
          "output_type": "stream",
          "text": [
            "0\n",
            "1\n",
            "2\n",
            "3\n",
            "4\n"
          ]
        }
      ],
      "source": [
        "# Looping over the integers between 0 (included) and 5 (excluded).\n",
        "for i in range(5):\n",
        "    print(i)\n",
        "\n",
        "## \n",
        "\n",
        "# Looping over the elements between 5 (included) and 20 (excluded) with step 2.\n",
        "for i in range(5,20,2): #start,stop,step\n",
        "    print(i)"
      ]
    },
    {
      "cell_type": "code",
      "execution_count": 47,
      "metadata": {
        "colab": {
          "base_uri": "https://localhost:8080/"
        },
        "id": "fFwSLl4mNFpS",
        "outputId": "48bf928a-a3bf-43a5-88d0-e5e150c5b57b"
      },
      "outputs": [
        {
          "name": "stdout",
          "output_type": "stream",
          "text": [
            "index=0, element=0\n",
            "index=1, element=1\n",
            "index=2, element=4\n",
            "index=3, element=9\n",
            "index=4, element=16\n",
            "index=5, element=25\n",
            "index=6, element=36\n",
            "index=7, element=49\n"
          ]
        }
      ],
      "source": [
        "#enumerate allows to get the element as well as its index in the list \n",
        "squares=[0,1,4,9,16,25,36,49]\n",
        "for index, element in enumerate(squares):\n",
        "    print(f'{index=}, {element=}')"
      ]
    },
    {
      "cell_type": "code",
      "execution_count": 58,
      "metadata": {
        "colab": {
          "base_uri": "https://localhost:8080/"
        },
        "id": "iwTcy7_XNwL4",
        "outputId": "b0ec475a-c9bd-497a-d781-ff3edd2d77df"
      },
      "outputs": [
        {
          "name": "stdout",
          "output_type": "stream",
          "text": [
            "0\n",
            "1\n",
            "2\n",
            "3\n",
            "4\n",
            "===\n",
            "0\n",
            "1\n",
            "2\n",
            "3\n",
            "4\n"
          ]
        }
      ],
      "source": [
        "i=0\n",
        "while i < 5:\n",
        "    print(i)\n",
        "    i+=1\n",
        "\n",
        "print('====')\n",
        "\n",
        "# break exits the innermost enclosing for or while loop\n",
        "i = 0\n",
        "\n",
        "while(i<10):\n",
        "    i+=1\n",
        "    if(i==5):\n",
        "        break\n",
        "    \n",
        "    print(i)\n"
      ]
    },
    {
      "cell_type": "markdown",
      "metadata": {
        "id": "QQgEYn6QR0ju"
      },
      "source": [
        "## Functions"
      ]
    },
    {
      "cell_type": "code",
      "execution_count": 34,
      "metadata": {
        "colab": {
          "base_uri": "https://localhost:8080/"
        },
        "id": "790GDC8qRzuD",
        "outputId": "92b07a6e-e37b-4671-fa16-d590118b831a"
      },
      "outputs": [
        {
          "data": {
            "text/plain": [
              "8"
            ]
          },
          "execution_count": 34,
          "metadata": {},
          "output_type": "execute_result"
        }
      ],
      "source": [
        "def power(x,exp):\n",
        "    return x**exp\n",
        "    \n",
        "power(2,3)"
      ]
    },
    {
      "cell_type": "code",
      "execution_count": 35,
      "metadata": {
        "colab": {
          "base_uri": "https://localhost:8080/"
        },
        "id": "iMXOIGJUSCLj",
        "outputId": "6441fee4-ed4a-4559-99d5-8bacf77320a1"
      },
      "outputs": [
        {
          "data": {
            "text/plain": [
              "(12, 4)"
            ]
          },
          "execution_count": 35,
          "metadata": {},
          "output_type": "execute_result"
        }
      ],
      "source": [
        "def volume_surface(a,b = 2,c = 3):#default arguments\n",
        "    vol=a*b*c\n",
        "    surf=a*b\n",
        "    return vol,surf"
      ]
    },
    {
      "cell_type": "markdown",
      "metadata": {
        "id": "LN7_I2McSY3B"
      },
      "source": [
        "**Exercise**: \n",
        "write a function that takes as arguments an integer  `n`, a positive float `s` and returns $$S_n(s)=\\sum_{k=1}^n k^{-s} $$"
      ]
    },
    {
      "cell_type": "code",
      "execution_count": 59,
      "metadata": {
        "cellView": "form",
        "id": "dPGxA6ADWD7h"
      },
      "outputs": [],
      "source": [
        "def truncated_zeta(n,s):\n",
        "    # ... "
      ]
    },
    {
      "cell_type": "markdown",
      "metadata": {},
      "source": [
        "**Exercise** : write a function `fibonacci(n)` that returns the n-th element of the Fibonacci sequence $F_n$. Write it with and without recursion.\n",
        "\n",
        "Reminder : $F_0 = 0, F_1 = 1, F_{n+2} = F_{n+1} + F_{n}$\n"
      ]
    },
    {
      "cell_type": "code",
      "execution_count": 46,
      "metadata": {},
      "outputs": [
        {
          "data": {
            "text/plain": [
              "4181"
            ]
          },
          "execution_count": 46,
          "metadata": {},
          "output_type": "execute_result"
        }
      ],
      "source": [
        "# Solution\n",
        "\n",
        "# ... "
      ]
    },
    {
      "cell_type": "markdown",
      "metadata": {
        "id": "W_kg1acmKT57"
      },
      "source": [
        "## Importing libraries"
      ]
    },
    {
      "cell_type": "code",
      "execution_count": 43,
      "metadata": {
        "colab": {
          "base_uri": "https://localhost:8080/",
          "height": 169
        },
        "id": "NeH7hDMeJW4Q",
        "outputId": "c8dd7a23-eae7-45bd-cd44-622cf2412f97"
      },
      "outputs": [
        {
          "ename": "NameError",
          "evalue": "ignored",
          "output_type": "error",
          "traceback": [
            "\u001b[0;31m---------------------------------------------------------------------------\u001b[0m",
            "\u001b[0;31mNameError\u001b[0m                                 Traceback (most recent call last)",
            "\u001b[0;32m<ipython-input-43-1bf613b64533>\u001b[0m in \u001b[0;36m<module>\u001b[0;34m\u001b[0m\n\u001b[0;32m----> 1\u001b[0;31m \u001b[0msqrt\u001b[0m\u001b[0;34m(\u001b[0m\u001b[0;36m25\u001b[0m\u001b[0;34m)\u001b[0m\u001b[0;34m\u001b[0m\u001b[0;34m\u001b[0m\u001b[0m\n\u001b[0m",
            "\u001b[0;31mNameError\u001b[0m: name 'sqrt' is not defined"
          ]
        }
      ],
      "source": [
        "sqrt(25)"
      ]
    },
    {
      "cell_type": "markdown",
      "metadata": {},
      "source": [
        "**Remark** When getting error messages like the one above, it's a good idea to Google them to see what's wrong with your code ... "
      ]
    },
    {
      "cell_type": "code",
      "execution_count": 44,
      "metadata": {
        "colab": {
          "base_uri": "https://localhost:8080/"
        },
        "id": "4eAg1CCZboGI",
        "outputId": "087f17b8-02e0-43ff-df02-1a9d9e60de81"
      },
      "outputs": [
        {
          "data": {
            "text/plain": [
              "5.0"
            ]
          },
          "execution_count": 44,
          "metadata": {},
          "output_type": "execute_result"
        }
      ],
      "source": [
        "import math\n",
        "math.sqrt(25)"
      ]
    },
    {
      "cell_type": "code",
      "execution_count": 45,
      "metadata": {
        "colab": {
          "base_uri": "https://localhost:8080/"
        },
        "id": "PYD1nd2hbsGa",
        "outputId": "57df1482-9a28-4bd7-b59e-08bedd6f8bd7"
      },
      "outputs": [
        {
          "data": {
            "text/plain": [
              "5.0"
            ]
          },
          "execution_count": 45,
          "metadata": {},
          "output_type": "execute_result"
        }
      ],
      "source": [
        "from math import sqrt\n",
        "sqrt(25)"
      ]
    },
    {
      "cell_type": "code",
      "execution_count": 46,
      "metadata": {
        "colab": {
          "base_uri": "https://localhost:8080/"
        },
        "id": "GEKZSKZqbwyJ",
        "outputId": "a214c87a-5d21-460f-a10b-32eb5cf74059"
      },
      "outputs": [
        {
          "data": {
            "text/plain": [
              "5.0"
            ]
          },
          "execution_count": 46,
          "metadata": {},
          "output_type": "execute_result"
        }
      ],
      "source": [
        "import math as m\n",
        "m.sqrt(25)"
      ]
    },
    {
      "cell_type": "code",
      "execution_count": 47,
      "metadata": {
        "colab": {
          "base_uri": "https://localhost:8080/"
        },
        "id": "wO-WpU18b_-X",
        "outputId": "d2c46baf-6864-45d9-bc08-3be1efe5b686"
      },
      "outputs": [
        {
          "data": {
            "text/plain": [
              "5.0"
            ]
          },
          "execution_count": 47,
          "metadata": {},
          "output_type": "execute_result"
        }
      ],
      "source": [
        "from math import * #import everything (dangerous because of name conflicts!)\n",
        "sqrt(25)"
      ]
    },
    {
      "cell_type": "code",
      "execution_count": 2,
      "metadata": {
        "id": "RQ7_MGv_b0K4"
      },
      "outputs": [],
      "source": [
        "# library to plot things\n",
        "import matplotlib.pyplot as plt\n",
        "# libraries for mathematical functions (integration, differentiation, linear algebra, etc.)\n",
        "import numpy as np\n",
        "import scipy\n",
        "# library for statistics\n",
        "import sklearn"
      ]
    },
    {
      "cell_type": "markdown",
      "metadata": {
        "id": "O-OLTtJGae0X"
      },
      "source": [
        "### Exercise: \n",
        "Consider a projectile being fired from the ground at $t=0$ with vertical speed  $v_y=5 \\, m/s$ and horizontal speed $v_x=20\\, m/s$. \n",
        "\n",
        "Divide the time interval $t\\in[0,1]$ in 100 steps and compute for each the $(x,y)$ positions and speeds\n",
        "\n"
      ]
    },
    {
      "cell_type": "code",
      "execution_count": 10,
      "metadata": {
        "cellView": "form",
        "id": "UzcY8-YTcw1t"
      },
      "outputs": [
        {
          "data": {
            "image/png": "[encoded data removed]",
            "text/plain": [
              "<Figure size 640x480 with 1 Axes>"
            ]
          },
          "metadata": {},
          "output_type": "display_data"
        }
      ],
      "source": [
        "#@title\n",
        "ts = np.linspace(0, 1, 100)\n",
        "g = 9.81\n",
        "vx = 20\n",
        "vy = 5\n",
        "pos_x = [vx * t for t in ts]\n",
        "pos_y = [vy * t - 0.5 * g * t**2 for t in ts]\n",
        "\n",
        "\n",
        "p = plt.plot(pos_x, pos_y, \"o\", ms=3)"
      ]
    },
    {
      "cell_type": "code",
      "execution_count": 66,
      "metadata": {},
      "outputs": [
        {
          "data": {
            "image/png": "[encoded data removed]",
            "text/plain": [
              "<Figure size 640x480 with 1 Axes>"
            ]
          },
          "metadata": {},
          "output_type": "display_data"
        }
      ],
      "source": [
        "# Plot the trajectory\n",
        "\n",
        "# ... "
      ]
    }
  ],
  "metadata": {
    "colab": {
      "provenance": []
    },
    "kernelspec": {
      "display_name": "Python 3",
      "name": "python3"
    },
    "language_info": {
      "codemirror_mode": {
        "name": "ipython",
        "version": 3
      },
      "file_extension": ".py",
      "mimetype": "text/x-python",
      "name": "python",
      "nbconvert_exporter": "python",
      "pygments_lexer": "ipython3",
      "version": "3.11.5"
    }
  },
  "nbformat": 4,
  "nbformat_minor": 0
}
