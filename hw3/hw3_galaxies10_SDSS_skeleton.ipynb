{
  "cells": [
    {
      "cell_type": "markdown",
      "metadata": {
        "id": "KbCfDzn6fk7_"
      },
      "source": [
        "# ML4Phys 2023 Assignment 3\n",
        "## Guoyuan Liu"
      ]
    },
    {
      "cell_type": "markdown",
      "metadata": {
        "id": "lVu1SzC6f9OV"
      },
      "source": [
        "Acknowledgements:\n",
        "\n",
        "Code is written with the help of github copilot. `train` and `test` methods are adapted from the solutions to previous exercises."
      ]
    },
    {
      "cell_type": "code",
      "execution_count": 151,
      "metadata": {
        "colab": {
          "base_uri": "https://localhost:8080/"
        },
        "id": "rp0gbNqhL4TO",
        "outputId": "458b6425-38ca-4c66-fd3f-b6f927659783"
      },
      "outputs": [
        {
          "name": "stdout",
          "output_type": "stream",
          "text": [
            "GPU available:  False\n"
          ]
        }
      ],
      "source": [
        "import h5py\n",
        "import numpy as np\n",
        "from tqdm import tqdm\n",
        "import copy\n",
        "import matplotlib.pyplot as plt\n",
        "\n",
        "import torch\n",
        "from torch import nn\n",
        "from torch.utils.data import Dataset, DataLoader, random_split\n",
        "\n",
        "from torchvision import transforms\n",
        "\n",
        "from sklearn.metrics import confusion_matrix, ConfusionMatrixDisplay\n",
        "\n",
        "\n",
        "device = \"cuda\" if torch.cuda.is_available() else \"cpu\"\n",
        "print(\"GPU available: \", torch.cuda.is_available())\n"
      ]
    },
    {
      "cell_type": "code",
      "execution_count": 2,
      "metadata": {
        "id": "l62yWQQk2rhh"
      },
      "outputs": [],
      "source": [
        "class MyDataset(Dataset):\n",
        "    def __init__(self, data, target, transform=None, target_transform=None):\n",
        "        self.data = data\n",
        "        self.target = target\n",
        "        self.transform = transform\n",
        "        self.target_transform = target_transform\n",
        "\n",
        "    def __len__(self):\n",
        "        return len(self.data)\n",
        "\n",
        "    def __getitem__(self, index):\n",
        "        x = self.data[index]\n",
        "        if self.transform:\n",
        "            x = self.transform(x)\n",
        "\n",
        "        y = self.target[index]\n",
        "        if self.target_transform:\n",
        "            y = self.target_transform(y)\n",
        "\n",
        "        return x, y"
      ]
    },
    {
      "cell_type": "markdown",
      "metadata": {
        "id": "1nX3-UIJgkpK"
      },
      "source": [
        "## Question 1: Data loading and pre-processing"
      ]
    },
    {
      "cell_type": "code",
      "execution_count": 3,
      "metadata": {
        "id": "vr_uvWp4gE-3"
      },
      "outputs": [
        {
          "name": "stdout",
          "output_type": "stream",
          "text": [
            "--2024-01-03 23:35:26--  http://www.astro.utoronto.ca/~bovy/Galaxy10/Galaxy10.h5\n",
            "Resolving www.astro.utoronto.ca (www.astro.utoronto.ca)... 128.100.89.92\n",
            "Connecting to www.astro.utoronto.ca (www.astro.utoronto.ca)|128.100.89.92|:80... connected.\n",
            "HTTP request sent, awaiting response... 301 Moved Permanently\n",
            "Location: https://www.astro.utoronto.ca/~bovy/Galaxy10/Galaxy10.h5 [following]\n",
            "--2024-01-03 23:35:26--  https://www.astro.utoronto.ca/~bovy/Galaxy10/Galaxy10.h5\n",
            "Connecting to www.astro.utoronto.ca (www.astro.utoronto.ca)|128.100.89.92|:443... connected.\n",
            "HTTP request sent, awaiting response... 200 OK\n",
            "Length: 210234548 (200M)\n",
            "Saving to: ‘Galaxy10.h5.1’\n",
            "\n",
            "Galaxy10.h5.1       100%[===================>] 200.50M  18.7MB/s    in 9.3s    \n",
            "\n",
            "2024-01-03 23:35:36 (21.6 MB/s) - ‘Galaxy10.h5.1’ saved [210234548/210234548]\n",
            "\n"
          ]
        },
        {
          "data": {
            "text/plain": [
              "['ans', 'images']"
            ]
          },
          "execution_count": 3,
          "metadata": {},
          "output_type": "execute_result"
        }
      ],
      "source": [
        "## download and read the .h5 data file\n",
        "!wget http://www.astro.utoronto.ca/~bovy/Galaxy10/Galaxy10.h5\n",
        "f = h5py.File('Galaxy10.h5')\n",
        "list(f.keys())"
      ]
    },
    {
      "cell_type": "code",
      "execution_count": 4,
      "metadata": {},
      "outputs": [
        {
          "data": {
            "text/plain": [
              "<HDF5 dataset \"images\": shape (21785, 69, 69, 3), type \"|u1\">"
            ]
          },
          "execution_count": 4,
          "metadata": {},
          "output_type": "execute_result"
        }
      ],
      "source": [
        "f[\"images\"]"
      ]
    },
    {
      "cell_type": "code",
      "execution_count": 5,
      "metadata": {
        "id": "jVcyTlJduZc5"
      },
      "outputs": [],
      "source": [
        "# First create np.arrays from the data in the file, then make torch.Tensors from those.\n",
        "# Directly going to torch.Tensor would be very slow in this case because h5py provides lazy access to the data, (see https://github.com/pytorch/pytorch/issues/13918).\n",
        "\n",
        "# create numpy arrays for labels and data\n",
        "\n",
        "data = torch.tensor(np.array(f[\"images\"]))\n",
        "labels = torch.tensor(np.array(f[\"ans\"]))\n",
        "\n",
        "# we change the data type and permute the color channel axis from place 3 to 1, to conform with pytorch defaults.\n",
        "data = data.type(torch.float32).permute(0,3,1,2)  # leave this as is\n",
        "labels = labels.type(torch.LongTensor)            # leave this as is"
      ]
    },
    {
      "cell_type": "code",
      "execution_count": 6,
      "metadata": {},
      "outputs": [],
      "source": [
        "# seed for reproducibility\n",
        "torch.manual_seed(42)\n",
        "np.random.seed(42)\n"
      ]
    },
    {
      "cell_type": "code",
      "execution_count": 23,
      "metadata": {
        "id": "snJ48HzvlYnH"
      },
      "outputs": [],
      "source": [
        "# continue with computing the channel means and std's after cropping on a subset of the data\n",
        "\n",
        "# random cropped samples\n",
        "crop = transforms.RandomCrop((48,48))\n",
        "samples = data[np.random.choice(len(data), 1000, replace=False), :, :, :]\n",
        "cropped_samples = crop(samples)\n",
        "\n",
        "# compute the channel means and std's on samples\n",
        "normalize = transforms.Normalize(cropped_samples.mean(axis=(0,2,3)), cropped_samples.std(axis=(0,2,3)))\n",
        "\n"
      ]
    },
    {
      "cell_type": "code",
      "execution_count": 24,
      "metadata": {
        "id": "Ok1XodJgmBw-"
      },
      "outputs": [],
      "source": [
        "# define the composed transform\n",
        "\n",
        "transform = transforms.Compose([crop, normalize])"
      ]
    },
    {
      "cell_type": "code",
      "execution_count": 27,
      "metadata": {},
      "outputs": [
        {
          "data": {
            "text/plain": [
              "tensor([0, 1, 2, 3, 4, 5, 6, 7, 8, 9])"
            ]
          },
          "execution_count": 27,
          "metadata": {},
          "output_type": "execute_result"
        }
      ],
      "source": []
    },
    {
      "cell_type": "code",
      "execution_count": 46,
      "metadata": {
        "id": "iLQppswimGF6"
      },
      "outputs": [],
      "source": [
        "# create train and test datasets for the two tasks as instances of the MyDataset class, e.g.\n",
        "# example_dataset = MyDataset(example_data, example_labels, transform=example_transform)\n",
        "main_idx = torch.where(labels <=7)[0]\n",
        "main = MyDataset(data[main_idx], labels[main_idx], transform=transform)\n",
        "held_out_idx = torch.where(labels >= 8)[0]\n",
        "held_out = MyDataset(data[held_out_idx], labels[held_out_idx] - 8, transform=transform)\n",
        "\n",
        "# then create data loaders with batch size 64\n",
        "train_main, test_main = random_split(main, [18000, len(main) - 18000])\n",
        "train_heldout, test_heldout = random_split(held_out, [1000, len(held_out) - 1000])\n",
        "\n",
        "train_main_dl = DataLoader(batch_size=64, dataset=train_main, shuffle=True)\n",
        "train_heldout_dl = DataLoader(batch_size=64, dataset=train_heldout, shuffle=True)\n",
        "\n",
        "test_main_dl = DataLoader(batch_size=64, dataset=test_main, shuffle=False)\n",
        "test_heldout_dl = DataLoader(batch_size=64, dataset=test_heldout, shuffle=False)\n"
      ]
    },
    {
      "cell_type": "markdown",
      "metadata": {
        "id": "qWbSzEmQgvBV"
      },
      "source": [
        "## Question 2: Fully connected network"
      ]
    },
    {
      "cell_type": "code",
      "execution_count": 68,
      "metadata": {
        "id": "xG_1tPcxgEko"
      },
      "outputs": [],
      "source": [
        "# define and train the FCN\n",
        "\n",
        "class FCN(nn.Module):\n",
        "    def __init__(self, device):\n",
        "        super(FCN, self).__init__()\n",
        "        self.model = nn.Sequential(\n",
        "            nn.Flatten(),\n",
        "            nn.Linear(3*48*48, 64),\n",
        "            nn.ReLU(),\n",
        "            nn.Linear(64, 8)\n",
        "        ).to(device)\n",
        "\n",
        "    def forward(self, x):\n",
        "        return self.model(x)\n",
        "        \n",
        "# Hint: Define train() and test() functions which you can reuse for the other models in the later questions\n",
        "#       (as done in the exercise sessions).\n",
        "\n",
        "def train(dataloader, model, loss_fn, optimizer):\n",
        "    '''\n",
        "    This function implements the train loop. It iterates over the training dataset\n",
        "    and try to converge to optimal parameters.\n",
        "    '''\n",
        "    model.train() # Set the model to training mode\n",
        "    train_loss = 0\n",
        "    num_batches = len(dataloader)\n",
        "    with tqdm(total=num_batches) as pbar:\n",
        "        for batch, (X, y) in enumerate(dataloader):\n",
        "            X, y = X.to(device), y.to(device)\n",
        "\n",
        "            # Compute prediction and loss\n",
        "            pred = model(X) # Pass the data to the model to execute the model forward\n",
        "            loss = loss_fn(pred, y)\n",
        "            train_loss += loss.item()\n",
        "\n",
        "            # Backpropagation\n",
        "            loss.backward() # Compute gradients of the loss w.r.t parameters (backward pass)\n",
        "            optimizer.step() # Do a gradient descent step and adjust parameters\n",
        "            optimizer.zero_grad() # Reset the gradients of model parameters to zero (gradients by default add up)\n",
        "            pbar.set_description(f\"train loss {loss:>.7f}\")\n",
        "            pbar.update(1)\n",
        "    return train_loss / len(dataloader)\n",
        "    \n",
        "\n",
        "def test(dataloader, model, loss_fn):\n",
        "    '''\n",
        "    This function implements the validation/test loop. It iterates over the test\n",
        "    dataset to check if the model performance is improving.\n",
        "    '''\n",
        "    size = len(dataloader.dataset)\n",
        "    num_batches = len(dataloader)\n",
        "    model.eval() # Set the model to evaluation mode\n",
        "    test_loss, correct = 0, 0\n",
        "    with torch.no_grad(): # Do not track gradients while evaluating (faster)\n",
        "        for X, y in dataloader:\n",
        "            X, y = X.to(device), y.to(device)\n",
        "            pred = model(X)\n",
        "            test_loss += loss_fn(pred, y).item() # Compute CE loss on the batch\n",
        "            correct += (pred.argmax(1) == y).type(torch.float).sum().item() # Compute classification error\n",
        "    test_loss /= num_batches\n",
        "    correct /= size\n",
        "    print(f\"Test Error: \\n Accuracy: {(100*correct):>0.1f}%, Avg loss: {test_loss:>8f} \\n\")\n",
        "    return test_loss, correct\n",
        "    "
      ]
    },
    {
      "cell_type": "code",
      "execution_count": 70,
      "metadata": {},
      "outputs": [
        {
          "name": "stdout",
          "output_type": "stream",
          "text": [
            "Epoch 1\n",
            "-------------------------------\n"
          ]
        },
        {
          "name": "stderr",
          "output_type": "stream",
          "text": [
            "train loss 1.3869748: 100%|██████████| 282/282 [00:02<00:00, 101.16it/s]\n"
          ]
        },
        {
          "name": "stdout",
          "output_type": "stream",
          "text": [
            "Test Error: \n",
            " Accuracy: 44.4%, Avg loss: 1.367594 \n",
            "\n",
            "Epoch 2\n",
            "-------------------------------\n"
          ]
        },
        {
          "name": "stderr",
          "output_type": "stream",
          "text": [
            "train loss 1.1858490: 100%|██████████| 282/282 [00:02<00:00, 102.94it/s]\n"
          ]
        },
        {
          "name": "stdout",
          "output_type": "stream",
          "text": [
            "Test Error: \n",
            " Accuracy: 45.2%, Avg loss: 1.286155 \n",
            "\n",
            "Epoch 3\n",
            "-------------------------------\n"
          ]
        },
        {
          "name": "stderr",
          "output_type": "stream",
          "text": [
            "train loss 1.1147131: 100%|██████████| 282/282 [00:02<00:00, 111.00it/s]\n"
          ]
        },
        {
          "name": "stdout",
          "output_type": "stream",
          "text": [
            "Test Error: \n",
            " Accuracy: 50.6%, Avg loss: 1.215312 \n",
            "\n",
            "Epoch 4\n",
            "-------------------------------\n"
          ]
        },
        {
          "name": "stderr",
          "output_type": "stream",
          "text": [
            "train loss 0.8354297: 100%|██████████| 282/282 [00:02<00:00, 103.38it/s]\n"
          ]
        },
        {
          "name": "stdout",
          "output_type": "stream",
          "text": [
            "Test Error: \n",
            " Accuracy: 53.7%, Avg loss: 1.178089 \n",
            "\n",
            "Epoch 5\n",
            "-------------------------------\n"
          ]
        },
        {
          "name": "stderr",
          "output_type": "stream",
          "text": [
            "train loss 0.8492268: 100%|██████████| 282/282 [00:02<00:00, 108.00it/s]\n"
          ]
        },
        {
          "name": "stdout",
          "output_type": "stream",
          "text": [
            "Test Error: \n",
            " Accuracy: 54.9%, Avg loss: 1.180832 \n",
            "\n",
            "Epoch 6\n",
            "-------------------------------\n"
          ]
        },
        {
          "name": "stderr",
          "output_type": "stream",
          "text": [
            "train loss 1.1409222: 100%|██████████| 282/282 [00:02<00:00, 97.52it/s] \n"
          ]
        },
        {
          "name": "stdout",
          "output_type": "stream",
          "text": [
            "Test Error: \n",
            " Accuracy: 56.4%, Avg loss: 1.128962 \n",
            "\n",
            "Epoch 7\n",
            "-------------------------------\n"
          ]
        },
        {
          "name": "stderr",
          "output_type": "stream",
          "text": [
            "train loss 0.9751909: 100%|██████████| 282/282 [00:02<00:00, 103.14it/s]\n"
          ]
        },
        {
          "name": "stdout",
          "output_type": "stream",
          "text": [
            "Test Error: \n",
            " Accuracy: 56.1%, Avg loss: 1.200046 \n",
            "\n",
            "Epoch 8\n",
            "-------------------------------\n"
          ]
        },
        {
          "name": "stderr",
          "output_type": "stream",
          "text": [
            "train loss 0.9205087: 100%|██████████| 282/282 [00:02<00:00, 94.04it/s] \n"
          ]
        },
        {
          "name": "stdout",
          "output_type": "stream",
          "text": [
            "Test Error: \n",
            " Accuracy: 56.1%, Avg loss: 1.190858 \n",
            "\n",
            "Epoch 9\n",
            "-------------------------------\n"
          ]
        },
        {
          "name": "stderr",
          "output_type": "stream",
          "text": [
            "train loss 0.7338142: 100%|██████████| 282/282 [00:02<00:00, 110.74it/s]\n"
          ]
        },
        {
          "name": "stdout",
          "output_type": "stream",
          "text": [
            "Test Error: \n",
            " Accuracy: 57.8%, Avg loss: 1.163300 \n",
            "\n",
            "Epoch 10\n",
            "-------------------------------\n"
          ]
        },
        {
          "name": "stderr",
          "output_type": "stream",
          "text": [
            "train loss 1.0582278: 100%|██████████| 282/282 [00:02<00:00, 103.01it/s]\n"
          ]
        },
        {
          "name": "stdout",
          "output_type": "stream",
          "text": [
            "Test Error: \n",
            " Accuracy: 57.7%, Avg loss: 1.246533 \n",
            "\n",
            "Epoch 11\n",
            "-------------------------------\n"
          ]
        },
        {
          "name": "stderr",
          "output_type": "stream",
          "text": [
            "train loss 0.8957466: 100%|██████████| 282/282 [00:02<00:00, 94.71it/s] \n"
          ]
        },
        {
          "name": "stdout",
          "output_type": "stream",
          "text": [
            "Test Error: \n",
            " Accuracy: 59.2%, Avg loss: 1.305055 \n",
            "\n",
            "Epoch 12\n",
            "-------------------------------\n"
          ]
        },
        {
          "name": "stderr",
          "output_type": "stream",
          "text": [
            "train loss 0.6629589: 100%|██████████| 282/282 [00:02<00:00, 100.66it/s]\n"
          ]
        },
        {
          "name": "stdout",
          "output_type": "stream",
          "text": [
            "Test Error: \n",
            " Accuracy: 60.0%, Avg loss: 1.179634 \n",
            "\n",
            "Epoch 13\n",
            "-------------------------------\n"
          ]
        },
        {
          "name": "stderr",
          "output_type": "stream",
          "text": [
            "train loss 1.7553737: 100%|██████████| 282/282 [00:02<00:00, 108.76it/s]\n"
          ]
        },
        {
          "name": "stdout",
          "output_type": "stream",
          "text": [
            "Test Error: \n",
            " Accuracy: 59.6%, Avg loss: 1.189993 \n",
            "\n",
            "Epoch 14\n",
            "-------------------------------\n"
          ]
        },
        {
          "name": "stderr",
          "output_type": "stream",
          "text": [
            "train loss 1.3936886: 100%|██████████| 282/282 [00:02<00:00, 102.17it/s]\n"
          ]
        },
        {
          "name": "stdout",
          "output_type": "stream",
          "text": [
            "Test Error: \n",
            " Accuracy: 60.6%, Avg loss: 1.338726 \n",
            "\n",
            "Epoch 15\n",
            "-------------------------------\n"
          ]
        },
        {
          "name": "stderr",
          "output_type": "stream",
          "text": [
            "train loss 1.0821062: 100%|██████████| 282/282 [00:02<00:00, 105.97it/s]\n"
          ]
        },
        {
          "name": "stdout",
          "output_type": "stream",
          "text": [
            "Test Error: \n",
            " Accuracy: 58.7%, Avg loss: 1.230482 \n",
            "\n",
            "Epoch 16\n",
            "-------------------------------\n"
          ]
        },
        {
          "name": "stderr",
          "output_type": "stream",
          "text": [
            "train loss 0.9984152: 100%|██████████| 282/282 [00:02<00:00, 97.24it/s] \n"
          ]
        },
        {
          "name": "stdout",
          "output_type": "stream",
          "text": [
            "Test Error: \n",
            " Accuracy: 60.1%, Avg loss: 1.368632 \n",
            "\n",
            "Epoch 17\n",
            "-------------------------------\n"
          ]
        },
        {
          "name": "stderr",
          "output_type": "stream",
          "text": [
            "train loss 0.8627518: 100%|██████████| 282/282 [00:02<00:00, 102.42it/s]\n"
          ]
        },
        {
          "name": "stdout",
          "output_type": "stream",
          "text": [
            "Test Error: \n",
            " Accuracy: 60.8%, Avg loss: 1.154101 \n",
            "\n",
            "Epoch 18\n",
            "-------------------------------\n"
          ]
        },
        {
          "name": "stderr",
          "output_type": "stream",
          "text": [
            "train loss 0.6603810: 100%|██████████| 282/282 [00:02<00:00, 100.66it/s]\n"
          ]
        },
        {
          "name": "stdout",
          "output_type": "stream",
          "text": [
            "Test Error: \n",
            " Accuracy: 59.3%, Avg loss: 1.093671 \n",
            "\n",
            "Epoch 19\n",
            "-------------------------------\n"
          ]
        },
        {
          "name": "stderr",
          "output_type": "stream",
          "text": [
            "train loss 0.9053705: 100%|██████████| 282/282 [00:02<00:00, 106.03it/s]\n"
          ]
        },
        {
          "name": "stdout",
          "output_type": "stream",
          "text": [
            "Test Error: \n",
            " Accuracy: 61.4%, Avg loss: 1.192753 \n",
            "\n",
            "Epoch 20\n",
            "-------------------------------\n"
          ]
        },
        {
          "name": "stderr",
          "output_type": "stream",
          "text": [
            "train loss 0.5942043: 100%|██████████| 282/282 [00:02<00:00, 104.44it/s]\n"
          ]
        },
        {
          "name": "stdout",
          "output_type": "stream",
          "text": [
            "Test Error: \n",
            " Accuracy: 63.0%, Avg loss: 1.088037 \n",
            "\n",
            "Epoch 21\n",
            "-------------------------------\n"
          ]
        },
        {
          "name": "stderr",
          "output_type": "stream",
          "text": [
            "train loss 0.8087031: 100%|██████████| 282/282 [00:02<00:00, 109.91it/s]\n"
          ]
        },
        {
          "name": "stdout",
          "output_type": "stream",
          "text": [
            "Test Error: \n",
            " Accuracy: 62.1%, Avg loss: 1.106397 \n",
            "\n",
            "Epoch 22\n",
            "-------------------------------\n"
          ]
        },
        {
          "name": "stderr",
          "output_type": "stream",
          "text": [
            "train loss 0.4985483: 100%|██████████| 282/282 [00:02<00:00, 111.63it/s]\n"
          ]
        },
        {
          "name": "stdout",
          "output_type": "stream",
          "text": [
            "Test Error: \n",
            " Accuracy: 60.0%, Avg loss: 1.120106 \n",
            "\n",
            "Epoch 23\n",
            "-------------------------------\n"
          ]
        },
        {
          "name": "stderr",
          "output_type": "stream",
          "text": [
            "train loss 0.8803424: 100%|██████████| 282/282 [00:02<00:00, 113.34it/s]\n"
          ]
        },
        {
          "name": "stdout",
          "output_type": "stream",
          "text": [
            "Test Error: \n",
            " Accuracy: 59.2%, Avg loss: 1.100593 \n",
            "\n",
            "Epoch 24\n",
            "-------------------------------\n"
          ]
        },
        {
          "name": "stderr",
          "output_type": "stream",
          "text": [
            "train loss 0.6221576: 100%|██████████| 282/282 [00:02<00:00, 95.63it/s] \n"
          ]
        },
        {
          "name": "stdout",
          "output_type": "stream",
          "text": [
            "Test Error: \n",
            " Accuracy: 61.1%, Avg loss: 1.133287 \n",
            "\n",
            "Epoch 25\n",
            "-------------------------------\n"
          ]
        },
        {
          "name": "stderr",
          "output_type": "stream",
          "text": [
            "train loss 0.8211491: 100%|██████████| 282/282 [00:02<00:00, 99.59it/s] \n"
          ]
        },
        {
          "name": "stdout",
          "output_type": "stream",
          "text": [
            "Test Error: \n",
            " Accuracy: 62.1%, Avg loss: 1.439098 \n",
            "\n",
            "Epoch 26\n",
            "-------------------------------\n"
          ]
        },
        {
          "name": "stderr",
          "output_type": "stream",
          "text": [
            "train loss 1.1695992: 100%|██████████| 282/282 [00:03<00:00, 92.29it/s] \n"
          ]
        },
        {
          "name": "stdout",
          "output_type": "stream",
          "text": [
            "Test Error: \n",
            " Accuracy: 61.9%, Avg loss: 1.098852 \n",
            "\n",
            "Epoch 27\n",
            "-------------------------------\n"
          ]
        },
        {
          "name": "stderr",
          "output_type": "stream",
          "text": [
            "train loss 0.9998217: 100%|██████████| 282/282 [00:02<00:00, 102.02it/s]\n"
          ]
        },
        {
          "name": "stdout",
          "output_type": "stream",
          "text": [
            "Test Error: \n",
            " Accuracy: 63.6%, Avg loss: 1.101723 \n",
            "\n",
            "Epoch 28\n",
            "-------------------------------\n"
          ]
        },
        {
          "name": "stderr",
          "output_type": "stream",
          "text": [
            "train loss 0.6935511: 100%|██████████| 282/282 [00:02<00:00, 99.69it/s] \n"
          ]
        },
        {
          "name": "stdout",
          "output_type": "stream",
          "text": [
            "Test Error: \n",
            " Accuracy: 60.9%, Avg loss: 1.333930 \n",
            "\n",
            "Epoch 29\n",
            "-------------------------------\n"
          ]
        },
        {
          "name": "stderr",
          "output_type": "stream",
          "text": [
            "train loss 1.1817721: 100%|██████████| 282/282 [00:02<00:00, 105.13it/s]\n"
          ]
        },
        {
          "name": "stdout",
          "output_type": "stream",
          "text": [
            "Test Error: \n",
            " Accuracy: 59.7%, Avg loss: 1.470730 \n",
            "\n",
            "Epoch 30\n",
            "-------------------------------\n"
          ]
        },
        {
          "name": "stderr",
          "output_type": "stream",
          "text": [
            "train loss 0.7667670: 100%|██████████| 282/282 [00:02<00:00, 94.56it/s] \n"
          ]
        },
        {
          "name": "stdout",
          "output_type": "stream",
          "text": [
            "Test Error: \n",
            " Accuracy: 61.6%, Avg loss: 1.171273 \n",
            "\n",
            "Epoch 31\n",
            "-------------------------------\n"
          ]
        },
        {
          "name": "stderr",
          "output_type": "stream",
          "text": [
            "train loss 0.7777700: 100%|██████████| 282/282 [00:02<00:00, 95.70it/s] \n"
          ]
        },
        {
          "name": "stdout",
          "output_type": "stream",
          "text": [
            "Test Error: \n",
            " Accuracy: 61.1%, Avg loss: 1.110294 \n",
            "\n",
            "Epoch 32\n",
            "-------------------------------\n"
          ]
        },
        {
          "name": "stderr",
          "output_type": "stream",
          "text": [
            "train loss 1.1939683: 100%|██████████| 282/282 [00:02<00:00, 95.21it/s] \n"
          ]
        },
        {
          "name": "stdout",
          "output_type": "stream",
          "text": [
            "Test Error: \n",
            " Accuracy: 61.9%, Avg loss: 1.153004 \n",
            "\n",
            "Epoch 33\n",
            "-------------------------------\n"
          ]
        },
        {
          "name": "stderr",
          "output_type": "stream",
          "text": [
            "train loss 0.9442428: 100%|██████████| 282/282 [00:02<00:00, 99.05it/s] \n"
          ]
        },
        {
          "name": "stdout",
          "output_type": "stream",
          "text": [
            "Test Error: \n",
            " Accuracy: 60.0%, Avg loss: 1.252068 \n",
            "\n",
            "Epoch 34\n",
            "-------------------------------\n"
          ]
        },
        {
          "name": "stderr",
          "output_type": "stream",
          "text": [
            "train loss 0.8579345: 100%|██████████| 282/282 [00:02<00:00, 109.98it/s]\n"
          ]
        },
        {
          "name": "stdout",
          "output_type": "stream",
          "text": [
            "Test Error: \n",
            " Accuracy: 61.3%, Avg loss: 1.432142 \n",
            "\n",
            "Epoch 35\n",
            "-------------------------------\n"
          ]
        },
        {
          "name": "stderr",
          "output_type": "stream",
          "text": [
            "train loss 1.3008734: 100%|██████████| 282/282 [00:02<00:00, 104.74it/s]\n"
          ]
        },
        {
          "name": "stdout",
          "output_type": "stream",
          "text": [
            "Test Error: \n",
            " Accuracy: 60.0%, Avg loss: 1.257876 \n",
            "\n",
            "Epoch 36\n",
            "-------------------------------\n"
          ]
        },
        {
          "name": "stderr",
          "output_type": "stream",
          "text": [
            "train loss 0.8711736: 100%|██████████| 282/282 [00:02<00:00, 101.86it/s]\n"
          ]
        },
        {
          "name": "stdout",
          "output_type": "stream",
          "text": [
            "Test Error: \n",
            " Accuracy: 60.6%, Avg loss: 1.497320 \n",
            "\n",
            "Epoch 37\n",
            "-------------------------------\n"
          ]
        },
        {
          "name": "stderr",
          "output_type": "stream",
          "text": [
            "train loss 0.7706289: 100%|██████████| 282/282 [00:02<00:00, 100.76it/s]\n"
          ]
        },
        {
          "name": "stdout",
          "output_type": "stream",
          "text": [
            "Test Error: \n",
            " Accuracy: 62.3%, Avg loss: 1.314272 \n",
            "\n",
            "Epoch 38\n",
            "-------------------------------\n"
          ]
        },
        {
          "name": "stderr",
          "output_type": "stream",
          "text": [
            "train loss 0.4720265: 100%|██████████| 282/282 [00:02<00:00, 103.54it/s]\n"
          ]
        },
        {
          "name": "stdout",
          "output_type": "stream",
          "text": [
            "Test Error: \n",
            " Accuracy: 62.7%, Avg loss: 1.645816 \n",
            "\n",
            "Epoch 39\n",
            "-------------------------------\n"
          ]
        },
        {
          "name": "stderr",
          "output_type": "stream",
          "text": [
            "train loss 0.9429590: 100%|██████████| 282/282 [00:02<00:00, 97.38it/s] \n"
          ]
        },
        {
          "name": "stdout",
          "output_type": "stream",
          "text": [
            "Test Error: \n",
            " Accuracy: 61.5%, Avg loss: 1.172534 \n",
            "\n",
            "Epoch 40\n",
            "-------------------------------\n"
          ]
        },
        {
          "name": "stderr",
          "output_type": "stream",
          "text": [
            "train loss 0.7637231: 100%|██████████| 282/282 [00:02<00:00, 99.08it/s] \n"
          ]
        },
        {
          "name": "stdout",
          "output_type": "stream",
          "text": [
            "Test Error: \n",
            " Accuracy: 63.7%, Avg loss: 1.256988 \n",
            "\n",
            "Epoch 41\n",
            "-------------------------------\n"
          ]
        },
        {
          "name": "stderr",
          "output_type": "stream",
          "text": [
            "train loss 0.5691899: 100%|██████████| 282/282 [00:02<00:00, 106.19it/s]\n"
          ]
        },
        {
          "name": "stdout",
          "output_type": "stream",
          "text": [
            "Test Error: \n",
            " Accuracy: 62.3%, Avg loss: 1.332507 \n",
            "\n",
            "Epoch 42\n",
            "-------------------------------\n"
          ]
        },
        {
          "name": "stderr",
          "output_type": "stream",
          "text": [
            "train loss 0.6714301: 100%|██████████| 282/282 [00:03<00:00, 90.96it/s]\n"
          ]
        },
        {
          "name": "stdout",
          "output_type": "stream",
          "text": [
            "Test Error: \n",
            " Accuracy: 61.2%, Avg loss: 1.125781 \n",
            "\n",
            "Epoch 43\n",
            "-------------------------------\n"
          ]
        },
        {
          "name": "stderr",
          "output_type": "stream",
          "text": [
            "train loss 0.8618902: 100%|██████████| 282/282 [00:02<00:00, 104.59it/s]\n"
          ]
        },
        {
          "name": "stdout",
          "output_type": "stream",
          "text": [
            "Test Error: \n",
            " Accuracy: 60.6%, Avg loss: 1.144146 \n",
            "\n",
            "Epoch 44\n",
            "-------------------------------\n"
          ]
        },
        {
          "name": "stderr",
          "output_type": "stream",
          "text": [
            "train loss 0.9481245: 100%|██████████| 282/282 [00:02<00:00, 113.73it/s]\n"
          ]
        },
        {
          "name": "stdout",
          "output_type": "stream",
          "text": [
            "Test Error: \n",
            " Accuracy: 61.4%, Avg loss: 1.186807 \n",
            "\n",
            "Epoch 45\n",
            "-------------------------------\n"
          ]
        },
        {
          "name": "stderr",
          "output_type": "stream",
          "text": [
            "train loss 0.5926726: 100%|██████████| 282/282 [00:02<00:00, 110.46it/s]\n"
          ]
        },
        {
          "name": "stdout",
          "output_type": "stream",
          "text": [
            "Test Error: \n",
            " Accuracy: 60.9%, Avg loss: 1.254397 \n",
            "\n",
            "Epoch 46\n",
            "-------------------------------\n"
          ]
        },
        {
          "name": "stderr",
          "output_type": "stream",
          "text": [
            "train loss 0.9006328: 100%|██████████| 282/282 [00:02<00:00, 102.93it/s]\n"
          ]
        },
        {
          "name": "stdout",
          "output_type": "stream",
          "text": [
            "Test Error: \n",
            " Accuracy: 58.9%, Avg loss: 1.228312 \n",
            "\n",
            "Epoch 47\n",
            "-------------------------------\n"
          ]
        },
        {
          "name": "stderr",
          "output_type": "stream",
          "text": [
            "train loss 0.6997281: 100%|██████████| 282/282 [00:02<00:00, 103.47it/s]\n"
          ]
        },
        {
          "name": "stdout",
          "output_type": "stream",
          "text": [
            "Test Error: \n",
            " Accuracy: 59.5%, Avg loss: 1.313883 \n",
            "\n",
            "Epoch 48\n",
            "-------------------------------\n"
          ]
        },
        {
          "name": "stderr",
          "output_type": "stream",
          "text": [
            "train loss 0.7026445: 100%|██████████| 282/282 [00:02<00:00, 97.91it/s] \n"
          ]
        },
        {
          "name": "stdout",
          "output_type": "stream",
          "text": [
            "Test Error: \n",
            " Accuracy: 60.4%, Avg loss: 1.235329 \n",
            "\n",
            "Epoch 49\n",
            "-------------------------------\n"
          ]
        },
        {
          "name": "stderr",
          "output_type": "stream",
          "text": [
            "train loss 0.8999022: 100%|██████████| 282/282 [00:02<00:00, 105.94it/s]\n"
          ]
        },
        {
          "name": "stdout",
          "output_type": "stream",
          "text": [
            "Test Error: \n",
            " Accuracy: 62.0%, Avg loss: 1.260927 \n",
            "\n",
            "Epoch 50\n",
            "-------------------------------\n"
          ]
        },
        {
          "name": "stderr",
          "output_type": "stream",
          "text": [
            "train loss 0.5339406: 100%|██████████| 282/282 [00:02<00:00, 104.07it/s]\n"
          ]
        },
        {
          "name": "stdout",
          "output_type": "stream",
          "text": [
            "Test Error: \n",
            " Accuracy: 61.1%, Avg loss: 1.693182 \n",
            "\n"
          ]
        }
      ],
      "source": [
        "fcn = FCN(device)\n",
        "\n",
        "train_losses = []\n",
        "test_losses = []\n",
        "for epoch in range(50):\n",
        "    print(f\"Epoch {epoch + 1}\\n-------------------------------\")\n",
        "    train_losses.append(train(train_main_dl, fcn, nn.CrossEntropyLoss(), torch.optim.Adam(fcn.parameters(), lr=1e-3)))\n",
        "    test_losses.append(test(test_main_dl, fcn, nn.CrossEntropyLoss())[0])"
      ]
    },
    {
      "cell_type": "code",
      "execution_count": 71,
      "metadata": {},
      "outputs": [
        {
          "data": {
            "image/png": "[encoded data removed]",
            "text/plain": [
              "<Figure size 640x480 with 1 Axes>"
            ]
          },
          "metadata": {},
          "output_type": "display_data"
        }
      ],
      "source": [
        "plt.plot(train_losses, label=\"train\")\n",
        "plt.plot(test_losses, label=\"test\")\n",
        "plt.xlabel(\"Epoch\")\n",
        "plt.ylabel(\"Loss\")\n",
        "plt.legend()\n",
        "plt.show()\n"
      ]
    },
    {
      "cell_type": "markdown",
      "metadata": {},
      "source": [
        "Train loss decreases steadily with more training epochs, while the test loss oscillates after the decline of the first few ecochs. The trend suggests that the model stopped to learn the generalizable relations of the data after relatively small amount of training and begin to overfit."
      ]
    },
    {
      "cell_type": "markdown",
      "metadata": {
        "id": "KQmjIgAWhwdQ"
      },
      "source": [
        "## Question 3: Convolutional network"
      ]
    },
    {
      "cell_type": "code",
      "execution_count": 77,
      "metadata": {
        "id": "DbO8qfqIh1Mp"
      },
      "outputs": [
        {
          "name": "stdout",
          "output_type": "stream",
          "text": [
            "Epoch 1\n",
            "-------------------------------\n"
          ]
        },
        {
          "name": "stderr",
          "output_type": "stream",
          "text": [
            "train loss 2.0477951:   0%|          | 0/282 [00:00<?, ?it/s]"
          ]
        },
        {
          "name": "stderr",
          "output_type": "stream",
          "text": [
            "train loss 1.4225285: 100%|██████████| 282/282 [00:04<00:00, 68.35it/s]\n"
          ]
        },
        {
          "name": "stdout",
          "output_type": "stream",
          "text": [
            "Test Error: \n",
            " Accuracy: 47.1%, Avg loss: 1.286334 \n",
            "\n",
            "Epoch 2\n",
            "-------------------------------\n"
          ]
        },
        {
          "name": "stderr",
          "output_type": "stream",
          "text": [
            "train loss 1.2874442: 100%|██████████| 282/282 [00:04<00:00, 69.67it/s]\n"
          ]
        },
        {
          "name": "stdout",
          "output_type": "stream",
          "text": [
            "Test Error: \n",
            " Accuracy: 51.2%, Avg loss: 1.089160 \n",
            "\n",
            "Epoch 3\n",
            "-------------------------------\n"
          ]
        },
        {
          "name": "stderr",
          "output_type": "stream",
          "text": [
            "train loss 0.9254472: 100%|██████████| 282/282 [00:03<00:00, 72.87it/s]\n"
          ]
        },
        {
          "name": "stdout",
          "output_type": "stream",
          "text": [
            "Test Error: \n",
            " Accuracy: 51.6%, Avg loss: 1.098477 \n",
            "\n",
            "Epoch 4\n",
            "-------------------------------\n"
          ]
        },
        {
          "name": "stderr",
          "output_type": "stream",
          "text": [
            "train loss 0.9402705: 100%|██████████| 282/282 [00:03<00:00, 72.55it/s]\n"
          ]
        },
        {
          "name": "stdout",
          "output_type": "stream",
          "text": [
            "Test Error: \n",
            " Accuracy: 60.0%, Avg loss: 0.979463 \n",
            "\n",
            "Epoch 5\n",
            "-------------------------------\n"
          ]
        },
        {
          "name": "stderr",
          "output_type": "stream",
          "text": [
            "train loss 1.2151326: 100%|██████████| 282/282 [00:03<00:00, 73.54it/s]\n"
          ]
        },
        {
          "name": "stdout",
          "output_type": "stream",
          "text": [
            "Test Error: \n",
            " Accuracy: 61.9%, Avg loss: 0.920717 \n",
            "\n",
            "Epoch 6\n",
            "-------------------------------\n"
          ]
        },
        {
          "name": "stderr",
          "output_type": "stream",
          "text": [
            "train loss 0.6880552: 100%|██████████| 282/282 [00:04<00:00, 66.82it/s]\n"
          ]
        },
        {
          "name": "stdout",
          "output_type": "stream",
          "text": [
            "Test Error: \n",
            " Accuracy: 64.4%, Avg loss: 0.878521 \n",
            "\n",
            "Epoch 7\n",
            "-------------------------------\n"
          ]
        },
        {
          "name": "stderr",
          "output_type": "stream",
          "text": [
            "train loss 1.0712570: 100%|██████████| 282/282 [00:03<00:00, 74.14it/s]\n"
          ]
        },
        {
          "name": "stdout",
          "output_type": "stream",
          "text": [
            "Test Error: \n",
            " Accuracy: 68.5%, Avg loss: 0.850673 \n",
            "\n",
            "Epoch 8\n",
            "-------------------------------\n"
          ]
        },
        {
          "name": "stderr",
          "output_type": "stream",
          "text": [
            "train loss 1.0210444: 100%|██████████| 282/282 [00:04<00:00, 67.95it/s]\n"
          ]
        },
        {
          "name": "stdout",
          "output_type": "stream",
          "text": [
            "Test Error: \n",
            " Accuracy: 69.2%, Avg loss: 0.785016 \n",
            "\n",
            "Epoch 9\n",
            "-------------------------------\n"
          ]
        },
        {
          "name": "stderr",
          "output_type": "stream",
          "text": [
            "train loss 0.7587243: 100%|██████████| 282/282 [00:03<00:00, 72.29it/s]\n"
          ]
        },
        {
          "name": "stdout",
          "output_type": "stream",
          "text": [
            "Test Error: \n",
            " Accuracy: 70.0%, Avg loss: 0.829868 \n",
            "\n",
            "Epoch 10\n",
            "-------------------------------\n"
          ]
        },
        {
          "name": "stderr",
          "output_type": "stream",
          "text": [
            "train loss 0.3822310: 100%|██████████| 282/282 [00:04<00:00, 69.29it/s]\n"
          ]
        },
        {
          "name": "stdout",
          "output_type": "stream",
          "text": [
            "Test Error: \n",
            " Accuracy: 71.5%, Avg loss: 0.775010 \n",
            "\n",
            "Epoch 11\n",
            "-------------------------------\n"
          ]
        },
        {
          "name": "stderr",
          "output_type": "stream",
          "text": [
            "train loss 0.6520441: 100%|██████████| 282/282 [00:04<00:00, 68.15it/s]\n"
          ]
        },
        {
          "name": "stdout",
          "output_type": "stream",
          "text": [
            "Test Error: \n",
            " Accuracy: 72.5%, Avg loss: 0.730859 \n",
            "\n",
            "Epoch 12\n",
            "-------------------------------\n"
          ]
        },
        {
          "name": "stderr",
          "output_type": "stream",
          "text": [
            "train loss 0.5459883: 100%|██████████| 282/282 [00:04<00:00, 67.16it/s]\n"
          ]
        },
        {
          "name": "stdout",
          "output_type": "stream",
          "text": [
            "Test Error: \n",
            " Accuracy: 76.3%, Avg loss: 0.656554 \n",
            "\n",
            "Epoch 13\n",
            "-------------------------------\n"
          ]
        },
        {
          "name": "stderr",
          "output_type": "stream",
          "text": [
            "train loss 0.5914451: 100%|██████████| 282/282 [00:04<00:00, 64.36it/s]\n"
          ]
        },
        {
          "name": "stdout",
          "output_type": "stream",
          "text": [
            "Test Error: \n",
            " Accuracy: 73.9%, Avg loss: 0.695390 \n",
            "\n",
            "Epoch 14\n",
            "-------------------------------\n"
          ]
        },
        {
          "name": "stderr",
          "output_type": "stream",
          "text": [
            "train loss 0.4830694: 100%|██████████| 282/282 [00:04<00:00, 69.79it/s]\n"
          ]
        },
        {
          "name": "stdout",
          "output_type": "stream",
          "text": [
            "Test Error: \n",
            " Accuracy: 75.6%, Avg loss: 0.672103 \n",
            "\n",
            "Epoch 15\n",
            "-------------------------------\n"
          ]
        },
        {
          "name": "stderr",
          "output_type": "stream",
          "text": [
            "train loss 0.3943196: 100%|██████████| 282/282 [00:04<00:00, 64.87it/s]\n"
          ]
        },
        {
          "name": "stdout",
          "output_type": "stream",
          "text": [
            "Test Error: \n",
            " Accuracy: 72.5%, Avg loss: 0.710451 \n",
            "\n",
            "Epoch 16\n",
            "-------------------------------\n"
          ]
        },
        {
          "name": "stderr",
          "output_type": "stream",
          "text": [
            "train loss 0.7606599: 100%|██████████| 282/282 [00:03<00:00, 70.82it/s]\n"
          ]
        },
        {
          "name": "stdout",
          "output_type": "stream",
          "text": [
            "Test Error: \n",
            " Accuracy: 75.5%, Avg loss: 0.654982 \n",
            "\n",
            "Epoch 17\n",
            "-------------------------------\n"
          ]
        },
        {
          "name": "stderr",
          "output_type": "stream",
          "text": [
            "train loss 0.2848463: 100%|██████████| 282/282 [00:04<00:00, 70.29it/s]\n"
          ]
        },
        {
          "name": "stdout",
          "output_type": "stream",
          "text": [
            "Test Error: \n",
            " Accuracy: 76.3%, Avg loss: 0.640703 \n",
            "\n",
            "Epoch 18\n",
            "-------------------------------\n"
          ]
        },
        {
          "name": "stderr",
          "output_type": "stream",
          "text": [
            "train loss 0.2354150: 100%|██████████| 282/282 [00:03<00:00, 71.50it/s]\n"
          ]
        },
        {
          "name": "stdout",
          "output_type": "stream",
          "text": [
            "Test Error: \n",
            " Accuracy: 76.1%, Avg loss: 0.638993 \n",
            "\n",
            "Epoch 19\n",
            "-------------------------------\n"
          ]
        },
        {
          "name": "stderr",
          "output_type": "stream",
          "text": [
            "train loss 0.2934024: 100%|██████████| 282/282 [00:04<00:00, 67.70it/s]\n"
          ]
        },
        {
          "name": "stdout",
          "output_type": "stream",
          "text": [
            "Test Error: \n",
            " Accuracy: 76.7%, Avg loss: 0.668165 \n",
            "\n",
            "Epoch 20\n",
            "-------------------------------\n"
          ]
        },
        {
          "name": "stderr",
          "output_type": "stream",
          "text": [
            "train loss 1.0880072: 100%|██████████| 282/282 [00:04<00:00, 68.95it/s]\n"
          ]
        },
        {
          "name": "stdout",
          "output_type": "stream",
          "text": [
            "Test Error: \n",
            " Accuracy: 77.5%, Avg loss: 0.600362 \n",
            "\n",
            "Epoch 21\n",
            "-------------------------------\n"
          ]
        },
        {
          "name": "stderr",
          "output_type": "stream",
          "text": [
            "train loss 0.2964232: 100%|██████████| 282/282 [00:03<00:00, 70.67it/s]\n"
          ]
        },
        {
          "name": "stdout",
          "output_type": "stream",
          "text": [
            "Test Error: \n",
            " Accuracy: 78.7%, Avg loss: 0.610169 \n",
            "\n",
            "Epoch 22\n",
            "-------------------------------\n"
          ]
        },
        {
          "name": "stderr",
          "output_type": "stream",
          "text": [
            "train loss 0.6731347: 100%|██████████| 282/282 [00:04<00:00, 66.36it/s]\n"
          ]
        },
        {
          "name": "stdout",
          "output_type": "stream",
          "text": [
            "Test Error: \n",
            " Accuracy: 73.3%, Avg loss: 0.707937 \n",
            "\n",
            "Epoch 23\n",
            "-------------------------------\n"
          ]
        },
        {
          "name": "stderr",
          "output_type": "stream",
          "text": [
            "train loss 0.4450368: 100%|██████████| 282/282 [00:04<00:00, 67.90it/s]\n"
          ]
        },
        {
          "name": "stdout",
          "output_type": "stream",
          "text": [
            "Test Error: \n",
            " Accuracy: 77.0%, Avg loss: 0.625967 \n",
            "\n",
            "Epoch 24\n",
            "-------------------------------\n"
          ]
        },
        {
          "name": "stderr",
          "output_type": "stream",
          "text": [
            "train loss 0.3638687: 100%|██████████| 282/282 [00:03<00:00, 75.98it/s]\n"
          ]
        },
        {
          "name": "stdout",
          "output_type": "stream",
          "text": [
            "Test Error: \n",
            " Accuracy: 78.3%, Avg loss: 0.622046 \n",
            "\n",
            "Epoch 25\n",
            "-------------------------------\n"
          ]
        },
        {
          "name": "stderr",
          "output_type": "stream",
          "text": [
            "train loss 0.7598067: 100%|██████████| 282/282 [00:03<00:00, 72.12it/s]\n"
          ]
        },
        {
          "name": "stdout",
          "output_type": "stream",
          "text": [
            "Test Error: \n",
            " Accuracy: 79.2%, Avg loss: 0.606475 \n",
            "\n",
            "Epoch 26\n",
            "-------------------------------\n"
          ]
        },
        {
          "name": "stderr",
          "output_type": "stream",
          "text": [
            "train loss 0.9121014: 100%|██████████| 282/282 [00:04<00:00, 68.18it/s]\n"
          ]
        },
        {
          "name": "stdout",
          "output_type": "stream",
          "text": [
            "Test Error: \n",
            " Accuracy: 77.8%, Avg loss: 0.618359 \n",
            "\n",
            "Epoch 27\n",
            "-------------------------------\n"
          ]
        },
        {
          "name": "stderr",
          "output_type": "stream",
          "text": [
            "train loss 0.4831659: 100%|██████████| 282/282 [00:04<00:00, 70.26it/s]\n"
          ]
        },
        {
          "name": "stdout",
          "output_type": "stream",
          "text": [
            "Test Error: \n",
            " Accuracy: 71.6%, Avg loss: 0.708790 \n",
            "\n",
            "Epoch 28\n",
            "-------------------------------\n"
          ]
        },
        {
          "name": "stderr",
          "output_type": "stream",
          "text": [
            "train loss 0.5589795: 100%|██████████| 282/282 [00:03<00:00, 70.99it/s]\n"
          ]
        },
        {
          "name": "stdout",
          "output_type": "stream",
          "text": [
            "Test Error: \n",
            " Accuracy: 77.0%, Avg loss: 0.650406 \n",
            "\n",
            "Epoch 29\n",
            "-------------------------------\n"
          ]
        },
        {
          "name": "stderr",
          "output_type": "stream",
          "text": [
            "train loss 0.4565068: 100%|██████████| 282/282 [00:04<00:00, 64.96it/s]\n"
          ]
        },
        {
          "name": "stdout",
          "output_type": "stream",
          "text": [
            "Test Error: \n",
            " Accuracy: 77.8%, Avg loss: 0.571983 \n",
            "\n",
            "Epoch 30\n",
            "-------------------------------\n"
          ]
        },
        {
          "name": "stderr",
          "output_type": "stream",
          "text": [
            "train loss 0.7744147: 100%|██████████| 282/282 [00:04<00:00, 67.74it/s]\n"
          ]
        },
        {
          "name": "stdout",
          "output_type": "stream",
          "text": [
            "Test Error: \n",
            " Accuracy: 76.2%, Avg loss: 0.644096 \n",
            "\n",
            "Epoch 31\n",
            "-------------------------------\n"
          ]
        },
        {
          "name": "stderr",
          "output_type": "stream",
          "text": [
            "train loss 0.2167128: 100%|██████████| 282/282 [00:04<00:00, 70.07it/s]\n"
          ]
        },
        {
          "name": "stdout",
          "output_type": "stream",
          "text": [
            "Test Error: \n",
            " Accuracy: 77.3%, Avg loss: 0.616430 \n",
            "\n",
            "Epoch 32\n",
            "-------------------------------\n"
          ]
        },
        {
          "name": "stderr",
          "output_type": "stream",
          "text": [
            "train loss 0.3655555: 100%|██████████| 282/282 [00:03<00:00, 72.60it/s]\n"
          ]
        },
        {
          "name": "stdout",
          "output_type": "stream",
          "text": [
            "Test Error: \n",
            " Accuracy: 79.4%, Avg loss: 0.631885 \n",
            "\n",
            "Epoch 33\n",
            "-------------------------------\n"
          ]
        },
        {
          "name": "stderr",
          "output_type": "stream",
          "text": [
            "train loss 0.3794312: 100%|██████████| 282/282 [00:04<00:00, 68.87it/s]\n"
          ]
        },
        {
          "name": "stdout",
          "output_type": "stream",
          "text": [
            "Test Error: \n",
            " Accuracy: 77.8%, Avg loss: 0.618408 \n",
            "\n",
            "Epoch 34\n",
            "-------------------------------\n"
          ]
        },
        {
          "name": "stderr",
          "output_type": "stream",
          "text": [
            "train loss 0.5929906: 100%|██████████| 282/282 [00:04<00:00, 68.04it/s]\n"
          ]
        },
        {
          "name": "stdout",
          "output_type": "stream",
          "text": [
            "Test Error: \n",
            " Accuracy: 78.1%, Avg loss: 0.633824 \n",
            "\n",
            "Epoch 35\n",
            "-------------------------------\n"
          ]
        },
        {
          "name": "stderr",
          "output_type": "stream",
          "text": [
            "train loss 0.4694717: 100%|██████████| 282/282 [00:03<00:00, 70.79it/s]\n"
          ]
        },
        {
          "name": "stdout",
          "output_type": "stream",
          "text": [
            "Test Error: \n",
            " Accuracy: 79.7%, Avg loss: 0.590592 \n",
            "\n",
            "Epoch 36\n",
            "-------------------------------\n"
          ]
        },
        {
          "name": "stderr",
          "output_type": "stream",
          "text": [
            "train loss 0.7674374: 100%|██████████| 282/282 [00:04<00:00, 66.05it/s]\n"
          ]
        },
        {
          "name": "stdout",
          "output_type": "stream",
          "text": [
            "Test Error: \n",
            " Accuracy: 78.8%, Avg loss: 0.588033 \n",
            "\n",
            "Epoch 37\n",
            "-------------------------------\n"
          ]
        },
        {
          "name": "stderr",
          "output_type": "stream",
          "text": [
            "train loss 0.3153316: 100%|██████████| 282/282 [00:04<00:00, 69.90it/s]\n"
          ]
        },
        {
          "name": "stdout",
          "output_type": "stream",
          "text": [
            "Test Error: \n",
            " Accuracy: 79.1%, Avg loss: 0.616133 \n",
            "\n",
            "Epoch 38\n",
            "-------------------------------\n"
          ]
        },
        {
          "name": "stderr",
          "output_type": "stream",
          "text": [
            "train loss 0.5289719: 100%|██████████| 282/282 [00:03<00:00, 71.28it/s]\n"
          ]
        },
        {
          "name": "stdout",
          "output_type": "stream",
          "text": [
            "Test Error: \n",
            " Accuracy: 79.5%, Avg loss: 0.619422 \n",
            "\n",
            "Epoch 39\n",
            "-------------------------------\n"
          ]
        },
        {
          "name": "stderr",
          "output_type": "stream",
          "text": [
            "train loss 0.8639323: 100%|██████████| 282/282 [00:03<00:00, 72.28it/s]\n"
          ]
        },
        {
          "name": "stdout",
          "output_type": "stream",
          "text": [
            "Test Error: \n",
            " Accuracy: 78.9%, Avg loss: 0.603215 \n",
            "\n",
            "Epoch 40\n",
            "-------------------------------\n"
          ]
        },
        {
          "name": "stderr",
          "output_type": "stream",
          "text": [
            "train loss 0.8912629: 100%|██████████| 282/282 [00:04<00:00, 69.18it/s]\n"
          ]
        },
        {
          "name": "stdout",
          "output_type": "stream",
          "text": [
            "Test Error: \n",
            " Accuracy: 78.2%, Avg loss: 0.618227 \n",
            "\n",
            "Epoch 41\n",
            "-------------------------------\n"
          ]
        },
        {
          "name": "stderr",
          "output_type": "stream",
          "text": [
            "train loss 0.4992188: 100%|██████████| 282/282 [00:04<00:00, 67.36it/s]\n"
          ]
        },
        {
          "name": "stdout",
          "output_type": "stream",
          "text": [
            "Test Error: \n",
            " Accuracy: 78.8%, Avg loss: 0.666135 \n",
            "\n",
            "Epoch 42\n",
            "-------------------------------\n"
          ]
        },
        {
          "name": "stderr",
          "output_type": "stream",
          "text": [
            "train loss 0.6997890: 100%|██████████| 282/282 [00:03<00:00, 74.04it/s]\n"
          ]
        },
        {
          "name": "stdout",
          "output_type": "stream",
          "text": [
            "Test Error: \n",
            " Accuracy: 75.9%, Avg loss: 0.659458 \n",
            "\n",
            "Epoch 43\n",
            "-------------------------------\n"
          ]
        },
        {
          "name": "stderr",
          "output_type": "stream",
          "text": [
            "train loss 0.5542195: 100%|██████████| 282/282 [00:03<00:00, 70.95it/s]\n"
          ]
        },
        {
          "name": "stdout",
          "output_type": "stream",
          "text": [
            "Test Error: \n",
            " Accuracy: 80.0%, Avg loss: 0.648387 \n",
            "\n",
            "Epoch 44\n",
            "-------------------------------\n"
          ]
        },
        {
          "name": "stderr",
          "output_type": "stream",
          "text": [
            "train loss 0.3692587: 100%|██████████| 282/282 [00:03<00:00, 72.12it/s]\n"
          ]
        },
        {
          "name": "stdout",
          "output_type": "stream",
          "text": [
            "Test Error: \n",
            " Accuracy: 78.4%, Avg loss: 0.618879 \n",
            "\n",
            "Epoch 45\n",
            "-------------------------------\n"
          ]
        },
        {
          "name": "stderr",
          "output_type": "stream",
          "text": [
            "train loss 0.7854741: 100%|██████████| 282/282 [00:04<00:00, 70.17it/s]\n"
          ]
        },
        {
          "name": "stdout",
          "output_type": "stream",
          "text": [
            "Test Error: \n",
            " Accuracy: 77.7%, Avg loss: 0.696059 \n",
            "\n",
            "Epoch 46\n",
            "-------------------------------\n"
          ]
        },
        {
          "name": "stderr",
          "output_type": "stream",
          "text": [
            "train loss 0.3069268: 100%|██████████| 282/282 [00:04<00:00, 68.22it/s]\n"
          ]
        },
        {
          "name": "stdout",
          "output_type": "stream",
          "text": [
            "Test Error: \n",
            " Accuracy: 80.0%, Avg loss: 0.565822 \n",
            "\n",
            "Epoch 47\n",
            "-------------------------------\n"
          ]
        },
        {
          "name": "stderr",
          "output_type": "stream",
          "text": [
            "train loss 0.4907243: 100%|██████████| 282/282 [00:04<00:00, 65.91it/s]\n"
          ]
        },
        {
          "name": "stdout",
          "output_type": "stream",
          "text": [
            "Test Error: \n",
            " Accuracy: 74.7%, Avg loss: 0.720499 \n",
            "\n",
            "Epoch 48\n",
            "-------------------------------\n"
          ]
        },
        {
          "name": "stderr",
          "output_type": "stream",
          "text": [
            "train loss 0.4847240: 100%|██████████| 282/282 [00:04<00:00, 69.61it/s]\n"
          ]
        },
        {
          "name": "stdout",
          "output_type": "stream",
          "text": [
            "Test Error: \n",
            " Accuracy: 79.6%, Avg loss: 0.611236 \n",
            "\n",
            "Epoch 49\n",
            "-------------------------------\n"
          ]
        },
        {
          "name": "stderr",
          "output_type": "stream",
          "text": [
            "train loss 0.1539450: 100%|██████████| 282/282 [00:03<00:00, 72.15it/s]\n"
          ]
        },
        {
          "name": "stdout",
          "output_type": "stream",
          "text": [
            "Test Error: \n",
            " Accuracy: 80.7%, Avg loss: 0.608155 \n",
            "\n",
            "Epoch 50\n",
            "-------------------------------\n"
          ]
        },
        {
          "name": "stderr",
          "output_type": "stream",
          "text": [
            "train loss 0.3650446: 100%|██████████| 282/282 [00:04<00:00, 68.57it/s]\n"
          ]
        },
        {
          "name": "stdout",
          "output_type": "stream",
          "text": [
            "Test Error: \n",
            " Accuracy: 80.0%, Avg loss: 0.589939 \n",
            "\n"
          ]
        }
      ],
      "source": [
        "# Define and train the CNN\n",
        "class CNN(nn.Module):\n",
        "    def __init__(self, device):\n",
        "        super(CNN, self).__init__()\n",
        "        self.cnn_backbone = nn.Sequential(\n",
        "            nn.Conv2d(3, 8, 5),\n",
        "            nn.ReLU(),\n",
        "            nn.MaxPool2d(2, 2),\n",
        "            nn.Conv2d(8, 16, 5),\n",
        "            nn.ReLU(),\n",
        "            nn.MaxPool2d(2, 2),\n",
        "            nn.Flatten(),\n",
        "            nn.Linear(1296, 128),\n",
        "            nn.ReLU(),\n",
        "            nn.Linear(128, 64),\n",
        "            nn.ReLU(),\n",
        "        ).to(device)\n",
        "        self.classifier = nn.Linear(64, 8).to(device)\n",
        "\n",
        "    def forward(self, x):\n",
        "        x = self.cnn_backbone(x)\n",
        "        return self.classifier(x)\n",
        "\n",
        "cnn = CNN(device)\n",
        "\n",
        "train_losses_cnn = []\n",
        "test_losses_cnn = []\n",
        "for epoch in range(50):\n",
        "    print(f\"Epoch {epoch + 1}\\n-------------------------------\")\n",
        "    train_losses_cnn.append(train(train_main_dl, cnn, nn.CrossEntropyLoss(), torch.optim.Adam(cnn.parameters(), lr=2e-3)))\n",
        "    test_losses_cnn.append(test(test_main_dl, cnn, nn.CrossEntropyLoss())[0])\n",
        "\n"
      ]
    },
    {
      "cell_type": "code",
      "execution_count": 86,
      "metadata": {},
      "outputs": [
        {
          "data": {
            "image/png": "[encoded data removed]",
            "text/plain": [
              "<Figure size 640x480 with 1 Axes>"
            ]
          },
          "metadata": {},
          "output_type": "display_data"
        }
      ],
      "source": [
        "# Compare test accuracies of FCN and CNN\n",
        "\n",
        "plt.plot(train_losses, color=\"tab:blue\", label=\"FCN train\")\n",
        "plt.plot(test_losses, '--', color=\"tab:blue\", label=\"FCN test\")\n",
        "plt.plot(train_losses_cnn, color=\"tab:orange\", label=\"CNN train\")\n",
        "plt.plot(test_losses_cnn, '--', color=\"tab:orange\", label=\"CNN test\")\n",
        "plt.xlabel(\"Epoch\")\n",
        "plt.ylabel(\"Loss\")\n",
        "plt.legend(loc=\"best\", ncol=2)\n",
        "plt.show()\n"
      ]
    },
    {
      "cell_type": "code",
      "execution_count": 78,
      "metadata": {},
      "outputs": [
        {
          "name": "stdout",
          "output_type": "stream",
          "text": [
            "Test Error: \n",
            " Accuracy: 60.8%, Avg loss: 1.116143 \n",
            "\n",
            "Test Error: \n",
            " Accuracy: 80.3%, Avg loss: 0.580463 \n",
            "\n",
            "FCN accuracy: 0.6080508474576272\n",
            "CNN accuracy: 0.8029661016949152\n"
          ]
        }
      ],
      "source": [
        "acc_fcn = test(test_main_dl, fcn, nn.CrossEntropyLoss())[1]\n",
        "acc_cnn = test(test_main_dl, cnn, nn.CrossEntropyLoss())[1]\n",
        "print(f\"FCN accuracy: {acc_fcn}\")\n",
        "print(f\"CNN accuracy: {acc_cnn}\")"
      ]
    },
    {
      "cell_type": "code",
      "execution_count": 87,
      "metadata": {},
      "outputs": [
        {
          "name": "stdout",
          "output_type": "stream",
          "text": [
            "FCN number of parameters: 442952\n",
            "CNN number of parameters: 178616\n"
          ]
        }
      ],
      "source": [
        "fcn_np = sum(p.numel() for p in fcn.parameters() if p.requires_grad)\n",
        "cnn_np = sum(p.numel() for p in cnn.parameters() if p.requires_grad)\n",
        "\n",
        "print(f\"FCN number of parameters: {fcn_np}\")\n",
        "print(f\"CNN number of parameters: {cnn_np}\")"
      ]
    },
    {
      "cell_type": "markdown",
      "metadata": {},
      "source": [
        "CNN outperforms FCN significantly in terms of classification accuracy on test data of the main dataset. This is expected from the training process, where the test loss of the CNN continue to decrease until around 20 epoches. This suggests the convolution architecture is better at learning the grpahical information than neural networks.  "
      ]
    },
    {
      "cell_type": "markdown",
      "metadata": {
        "id": "RZx17cqmiDad"
      },
      "source": [
        "## Question 4: Confusion matrices"
      ]
    },
    {
      "cell_type": "code",
      "execution_count": 162,
      "metadata": {
        "id": "pi-2JeC2iICE"
      },
      "outputs": [],
      "source": [
        "# Compute and plot the confusion matrices of the FCN and CNN. Comment on the results.\n",
        "\n",
        "def plot_confusion_matrix(model, dataloader, title, labels=[1, 2, 3, 4, 5, 6, 7, 8]):\n",
        "    model.eval()\n",
        "    y_pred = []\n",
        "    y_true = []\n",
        "    with torch.no_grad():\n",
        "        for X, y in dataloader:\n",
        "            X, y = X.to(device), y.to(device)\n",
        "            pred = model(X)\n",
        "            y_pred.extend(pred.argmax(1).cpu().numpy())\n",
        "            y_true.extend(y.cpu().numpy())\n",
        "    cm = confusion_matrix(y_true, y_pred)\n",
        "    disp = ConfusionMatrixDisplay(confusion_matrix=cm, display_labels=labels)\n",
        "    disp.plot()\n",
        "    plt.title(title)\n",
        "    plt.show()\n",
        "    return y_pred, y_true"
      ]
    },
    {
      "cell_type": "code",
      "execution_count": 163,
      "metadata": {},
      "outputs": [
        {
          "data": {
            "image/png": "[encoded data removed]",
            "text/plain": [
              "<Figure size 640x480 with 2 Axes>"
            ]
          },
          "metadata": {},
          "output_type": "display_data"
        },
        {
          "data": {
            "image/png": "[encoded data removed]",
            "text/plain": [
              "<Figure size 640x480 with 2 Axes>"
            ]
          },
          "metadata": {},
          "output_type": "display_data"
        }
      ],
      "source": [
        "y_pred_fcn, y_true = plot_confusion_matrix(fcn, test_main_dl, \"FCN\")\n",
        "y_pred_cnn, y_true = plot_confusion_matrix(cnn, test_main_dl, \"CNN\")"
      ]
    },
    {
      "cell_type": "code",
      "execution_count": 144,
      "metadata": {},
      "outputs": [
        {
          "data": {
            "image/png": "[encoded data removed]",
            "text/plain": [
              "<Figure size 640x480 with 2 Axes>"
            ]
          },
          "metadata": {},
          "output_type": "display_data"
        }
      ],
      "source": [
        "# analyze unbalancedness of the dataset\n",
        "\n",
        "freq, bins = np.histogram(y_true, bins=range(9))\n",
        "\n",
        "\n",
        "fig, ax1 = plt.subplots()\n",
        "ax1.bar(range(1,9), freq, width=0.8, align='center')\n",
        "ax1.set_xticks(range(1,9))\n",
        "for fr, x in zip(freq, range(1, 9)):\n",
        "  plt.annotate(\"{}\".format(int(fr)),xy = (x, fr), ha = 'center', va = 'bottom')\n",
        "\n",
        "\n",
        "ax1.set_xlabel(\"Class\")\n",
        "ax1.set_ylabel(\"Count\")\n",
        "\n",
        "\n",
        "\n",
        "def accuracy_by_class(y_pred, y_true):\n",
        "    accs = []\n",
        "    for i in range(8):\n",
        "        idx = np.where(np.array(y_true) == i)[0]\n",
        "        accs.append((np.array(y_pred)[idx] == np.array(y_true)[idx]).sum() / len(idx))\n",
        "    return accs\n",
        "\n",
        "accs_fcn = accuracy_by_class(y_pred_fcn, y_true)\n",
        "accs_cnn = accuracy_by_class(y_pred_cnn, y_true)\n",
        "ax2 = ax1.twinx()\n",
        "ax2.plot(range(1, 9), accs_fcn, 'o-', color=\"tab:green\", label=\"FCN\")\n",
        "ax2.plot(range(1, 9), accs_cnn, 'o-', color=\"tab:orange\",label=\"CNN\")\n",
        "ax2.set_ylim(0, 1)\n",
        "ax2.set_ylabel(\"Accuracy\")\n",
        "ax2.legend(loc=\"upper right\")\n",
        "\n",
        "plt.show()"
      ]
    },
    {
      "cell_type": "markdown",
      "metadata": {},
      "source": [
        "Class with much fewer data tend to be classified with lower accuracy by both models, eg. class 4 and 6. Note that the more training data does not necesserially lead to better accuracy, eg. comparing class 7 and 8. "
      ]
    },
    {
      "cell_type": "markdown",
      "metadata": {
        "id": "7zCCqmjUikWU"
      },
      "source": [
        "## Question 5: Transfer learning"
      ]
    },
    {
      "cell_type": "code",
      "execution_count": 152,
      "metadata": {
        "id": "jaMRwxgoiqSW"
      },
      "outputs": [],
      "source": [
        "# Re-use the frozen cnn_backbone from Q4 with a new classification head, training on the two unseen classes.\n",
        "\n",
        "class CNN2(nn.Module):\n",
        "    def __init__(self, device, backbone):\n",
        "        super(CNN2, self).__init__()\n",
        "        self.backbone = copy.deepcopy(backbone)\n",
        "        for p in self.backbone.parameters():\n",
        "            p.requires_grad = False\n",
        "        self.backbone.to(device)\n",
        "        self.classifier = nn.Linear(64, 2).to(device)\n",
        "\n",
        "    def forward(self, x):\n",
        "        x = self.backbone(x)\n",
        "        return self.classifier(x)\n",
        "    "
      ]
    },
    {
      "cell_type": "code",
      "execution_count": 153,
      "metadata": {},
      "outputs": [
        {
          "name": "stdout",
          "output_type": "stream",
          "text": [
            "Epoch 1\n",
            "-------------------------------\n"
          ]
        },
        {
          "name": "stderr",
          "output_type": "stream",
          "text": [
            "train loss 0.5825816: 100%|██████████| 16/16 [00:00<00:00, 87.94it/s]\n"
          ]
        },
        {
          "name": "stdout",
          "output_type": "stream",
          "text": [
            "Test Error: \n",
            " Accuracy: 74.4%, Avg loss: 0.554792 \n",
            "\n",
            "Epoch 2\n",
            "-------------------------------\n"
          ]
        },
        {
          "name": "stderr",
          "output_type": "stream",
          "text": [
            "train loss 0.4739343: 100%|██████████| 16/16 [00:00<00:00, 108.11it/s]\n"
          ]
        },
        {
          "name": "stdout",
          "output_type": "stream",
          "text": [
            "Test Error: \n",
            " Accuracy: 75.8%, Avg loss: 0.528228 \n",
            "\n",
            "Epoch 3\n",
            "-------------------------------\n"
          ]
        },
        {
          "name": "stderr",
          "output_type": "stream",
          "text": [
            "train loss 0.5915797: 100%|██████████| 16/16 [00:00<00:00, 90.51it/s]\n"
          ]
        },
        {
          "name": "stdout",
          "output_type": "stream",
          "text": [
            "Test Error: \n",
            " Accuracy: 77.9%, Avg loss: 0.471842 \n",
            "\n",
            "Epoch 4\n",
            "-------------------------------\n"
          ]
        },
        {
          "name": "stderr",
          "output_type": "stream",
          "text": [
            "train loss 0.3318658: 100%|██████████| 16/16 [00:00<00:00, 107.60it/s]\n"
          ]
        },
        {
          "name": "stdout",
          "output_type": "stream",
          "text": [
            "Test Error: \n",
            " Accuracy: 77.4%, Avg loss: 0.498138 \n",
            "\n",
            "Epoch 5\n",
            "-------------------------------\n"
          ]
        },
        {
          "name": "stderr",
          "output_type": "stream",
          "text": [
            "train loss 0.4138004: 100%|██████████| 16/16 [00:00<00:00, 108.02it/s]\n"
          ]
        },
        {
          "name": "stdout",
          "output_type": "stream",
          "text": [
            "Test Error: \n",
            " Accuracy: 76.2%, Avg loss: 0.505057 \n",
            "\n",
            "Epoch 6\n",
            "-------------------------------\n"
          ]
        },
        {
          "name": "stderr",
          "output_type": "stream",
          "text": [
            "train loss 0.5705786: 100%|██████████| 16/16 [00:00<00:00, 106.75it/s]\n"
          ]
        },
        {
          "name": "stdout",
          "output_type": "stream",
          "text": [
            "Test Error: \n",
            " Accuracy: 77.4%, Avg loss: 0.524727 \n",
            "\n",
            "Epoch 7\n",
            "-------------------------------\n"
          ]
        },
        {
          "name": "stderr",
          "output_type": "stream",
          "text": [
            "train loss 0.6417421: 100%|██████████| 16/16 [00:00<00:00, 106.87it/s]\n"
          ]
        },
        {
          "name": "stdout",
          "output_type": "stream",
          "text": [
            "Test Error: \n",
            " Accuracy: 78.1%, Avg loss: 0.484097 \n",
            "\n",
            "Epoch 8\n",
            "-------------------------------\n"
          ]
        },
        {
          "name": "stderr",
          "output_type": "stream",
          "text": [
            "train loss 0.4932298: 100%|██████████| 16/16 [00:00<00:00, 107.94it/s]\n"
          ]
        },
        {
          "name": "stdout",
          "output_type": "stream",
          "text": [
            "Test Error: \n",
            " Accuracy: 78.4%, Avg loss: 0.495188 \n",
            "\n",
            "Epoch 9\n",
            "-------------------------------\n"
          ]
        },
        {
          "name": "stderr",
          "output_type": "stream",
          "text": [
            "train loss 0.5737129: 100%|██████████| 16/16 [00:00<00:00, 108.07it/s]\n"
          ]
        },
        {
          "name": "stdout",
          "output_type": "stream",
          "text": [
            "Test Error: \n",
            " Accuracy: 76.9%, Avg loss: 0.503150 \n",
            "\n",
            "Epoch 10\n",
            "-------------------------------\n"
          ]
        },
        {
          "name": "stderr",
          "output_type": "stream",
          "text": [
            "train loss 0.4537591: 100%|██████████| 16/16 [00:00<00:00, 95.78it/s] \n"
          ]
        },
        {
          "name": "stdout",
          "output_type": "stream",
          "text": [
            "Test Error: \n",
            " Accuracy: 78.1%, Avg loss: 0.506712 \n",
            "\n",
            "Epoch 11\n",
            "-------------------------------\n"
          ]
        },
        {
          "name": "stderr",
          "output_type": "stream",
          "text": [
            "train loss 0.3820414: 100%|██████████| 16/16 [00:00<00:00, 70.83it/s]\n"
          ]
        },
        {
          "name": "stdout",
          "output_type": "stream",
          "text": [
            "Test Error: \n",
            " Accuracy: 75.1%, Avg loss: 0.527990 \n",
            "\n",
            "Epoch 12\n",
            "-------------------------------\n"
          ]
        },
        {
          "name": "stderr",
          "output_type": "stream",
          "text": [
            "train loss 0.5804921: 100%|██████████| 16/16 [00:00<00:00, 94.61it/s] \n"
          ]
        },
        {
          "name": "stdout",
          "output_type": "stream",
          "text": [
            "Test Error: \n",
            " Accuracy: 76.2%, Avg loss: 0.512590 \n",
            "\n",
            "Epoch 13\n",
            "-------------------------------\n"
          ]
        },
        {
          "name": "stderr",
          "output_type": "stream",
          "text": [
            "train loss 0.5285922: 100%|██████████| 16/16 [00:00<00:00, 107.43it/s]\n"
          ]
        },
        {
          "name": "stdout",
          "output_type": "stream",
          "text": [
            "Test Error: \n",
            " Accuracy: 77.4%, Avg loss: 0.508188 \n",
            "\n",
            "Epoch 14\n",
            "-------------------------------\n"
          ]
        },
        {
          "name": "stderr",
          "output_type": "stream",
          "text": [
            "train loss 0.4671384: 100%|██████████| 16/16 [00:00<00:00, 107.54it/s]\n"
          ]
        },
        {
          "name": "stdout",
          "output_type": "stream",
          "text": [
            "Test Error: \n",
            " Accuracy: 78.4%, Avg loss: 0.512061 \n",
            "\n",
            "Epoch 15\n",
            "-------------------------------\n"
          ]
        },
        {
          "name": "stderr",
          "output_type": "stream",
          "text": [
            "train loss 0.5356623: 100%|██████████| 16/16 [00:00<00:00, 108.31it/s]\n"
          ]
        },
        {
          "name": "stdout",
          "output_type": "stream",
          "text": [
            "Test Error: \n",
            " Accuracy: 76.5%, Avg loss: 0.517029 \n",
            "\n",
            "Epoch 16\n",
            "-------------------------------\n"
          ]
        },
        {
          "name": "stderr",
          "output_type": "stream",
          "text": [
            "train loss 0.5625439: 100%|██████████| 16/16 [00:00<00:00, 92.03it/s] \n"
          ]
        },
        {
          "name": "stdout",
          "output_type": "stream",
          "text": [
            "Test Error: \n",
            " Accuracy: 77.6%, Avg loss: 0.497745 \n",
            "\n",
            "Epoch 17\n",
            "-------------------------------\n"
          ]
        },
        {
          "name": "stderr",
          "output_type": "stream",
          "text": [
            "train loss 0.5378784: 100%|██████████| 16/16 [00:00<00:00, 67.78it/s]\n"
          ]
        },
        {
          "name": "stdout",
          "output_type": "stream",
          "text": [
            "Test Error: \n",
            " Accuracy: 78.4%, Avg loss: 0.484607 \n",
            "\n",
            "Epoch 18\n",
            "-------------------------------\n"
          ]
        },
        {
          "name": "stderr",
          "output_type": "stream",
          "text": [
            "train loss 0.4694351: 100%|██████████| 16/16 [00:00<00:00, 105.00it/s]\n"
          ]
        },
        {
          "name": "stdout",
          "output_type": "stream",
          "text": [
            "Test Error: \n",
            " Accuracy: 76.5%, Avg loss: 0.521605 \n",
            "\n",
            "Epoch 19\n",
            "-------------------------------\n"
          ]
        },
        {
          "name": "stderr",
          "output_type": "stream",
          "text": [
            "train loss 0.3637460: 100%|██████████| 16/16 [00:00<00:00, 101.51it/s]\n"
          ]
        },
        {
          "name": "stdout",
          "output_type": "stream",
          "text": [
            "Test Error: \n",
            " Accuracy: 75.5%, Avg loss: 0.515497 \n",
            "\n",
            "Epoch 20\n",
            "-------------------------------\n"
          ]
        },
        {
          "name": "stderr",
          "output_type": "stream",
          "text": [
            "train loss 0.5096592: 100%|██████████| 16/16 [00:00<00:00, 104.14it/s]\n"
          ]
        },
        {
          "name": "stdout",
          "output_type": "stream",
          "text": [
            "Test Error: \n",
            " Accuracy: 76.7%, Avg loss: 0.501627 \n",
            "\n"
          ]
        }
      ],
      "source": [
        "cnn2 = CNN2(device, cnn.cnn_backbone)\n",
        "\n",
        "for epoch in range(20):\n",
        "    print(f\"Epoch {epoch + 1}\\n-------------------------------\")\n",
        "    train(train_heldout_dl, cnn2, nn.CrossEntropyLoss(), torch.optim.Adam(cnn2.parameters(), lr=5e-3))\n",
        "    test(test_heldout_dl, cnn2, nn.CrossEntropyLoss())"
      ]
    },
    {
      "cell_type": "code",
      "execution_count": 188,
      "metadata": {},
      "outputs": [
        {
          "data": {
            "image/png": "[encoded data removed]",
            "text/plain": [
              "<Figure size 640x480 with 2 Axes>"
            ]
          },
          "metadata": {},
          "output_type": "display_data"
        },
        {
          "name": "stdout",
          "output_type": "stream",
          "text": [
            "CNN2 accuracy: 0.7694117647058824\n"
          ]
        }
      ],
      "source": [
        "y_pred_cnn2, y_true_heldout = plot_confusion_matrix(cnn2, test_heldout_dl, \"CNN2\", labels=[9, 10])\n",
        "acc_cnn2 = (np.array(y_pred_cnn2) == np.array(y_true_heldout)).sum() / len(y_true_heldout)\n",
        "print(f\"CNN2 accuracy: {acc_cnn2}\")"
      ]
    }
  ],
  "metadata": {
    "accelerator": "GPU",
    "colab": {
      "gpuType": "T4",
      "provenance": []
    },
    "kernelspec": {
      "display_name": "Python 3",
      "name": "python3"
    },
    "language_info": {
      "codemirror_mode": {
        "name": "ipython",
        "version": 3
      },
      "file_extension": ".py",
      "mimetype": "text/x-python",
      "name": "python",
      "nbconvert_exporter": "python",
      "pygments_lexer": "ipython3",
      "version": "3.10.13"
    }
  },
  "nbformat": 4,
  "nbformat_minor": 0
}
